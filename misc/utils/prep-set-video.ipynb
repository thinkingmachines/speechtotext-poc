{
 "cells": [
  {
   "cell_type": "code",
   "execution_count": 1,
   "id": "d8a6e452-2dbe-4ce2-9521-abccc19ea257",
   "metadata": {
    "tags": []
   },
   "outputs": [],
   "source": [
    "# # Download ong's data\n",
    "# !gdown --id 1ZZJ23ejcMEsaLBkSbOZmlxXyhIVZqfJo\n",
    "\n",
    "# # Download amm's data\n",
    "# !gdown --id 1TRPRcDEyi6ogu8j4OE_d_ePJRxUw_X1m"
   ]
  },
  {
   "cell_type": "code",
   "execution_count": 1,
   "id": "0435e11d-2699-494b-8bd4-7c1f450e5132",
   "metadata": {
    "tags": []
   },
   "outputs": [],
   "source": [
    "from pathlib import Path\n",
    "from itertools import chain\n",
    "import re\n",
    "\n",
    "import pysrt\n",
    "import pandas as pd\n",
    "from moviepy.video.io.ffmpeg_tools import ffmpeg_extract_subclip, ffmpeg_extract_audio"
   ]
  },
  {
   "cell_type": "code",
   "execution_count": 2,
   "id": "fd8138b9-8736-4e95-9c0a-271b3deb8ee8",
   "metadata": {
    "tags": []
   },
   "outputs": [],
   "source": [
    "ROOT_PATH = Path.cwd().parent / \"data\" / \"Opp Day SRTs\" \n",
    "(VIDEO_CHUNKS_PATH := ROOT_PATH / \"chunks\").mkdir(exist_ok=True)"
   ]
  },
  {
   "cell_type": "code",
   "execution_count": 3,
   "id": "de380ad1-1aa4-4101-a46a-4cb5d6c36bf8",
   "metadata": {},
   "outputs": [],
   "source": [
    "fr_srts = list((ROOT_PATH / \"Freelancer SRT\").rglob(\"*.srt\"))\n",
    "capcut_srts = list((ROOT_PATH / \"Capcut SRT\").rglob(\"*.srt\"))\n",
    "vids = list((ROOT_PATH / \"Original Videos\").rglob(\"*.mp4\"))\n",
    "# vids = list((ROOT_PATH).rglob(\"*.mp4\"))"
   ]
  },
  {
   "cell_type": "code",
   "execution_count": 4,
   "id": "b248794a-37ea-4d43-a6a2-dd5063496856",
   "metadata": {
    "tags": []
   },
   "outputs": [],
   "source": [
    "def gen_srt_map(ls: list[Path], exist_dict: dict = {}) -> dict[str, Path]:\n",
    "    def hard_mapping(s: str) -> str:\n",
    "        s = Path(clean_logic(s)).stem.upper()\n",
    "        mapping = {\"interpharma\": \"IP\"}\n",
    "        return mapping.get(s.lower(), s)\n",
    "        \n",
    "        \n",
    "    def clean_logic(s: str) -> str:\n",
    "        s = re.sub(\"FL-\", \"\", s)\n",
    "        if \" \" in s:\n",
    "            candidate = s.split(\" \")[0]\n",
    "            if candidate == \"Opp\":\n",
    "                return re.search(\"[A-Z]{2,}\", s).group(0)\n",
    "            return candidate\n",
    "        \n",
    "        return s.split(\"-\")[0]\n",
    "        \n",
    "    return exist_dict | {hard_mapping(clean_logic(l.name)): l for l in ls}\n",
    "\n",
    "def gen_video_map(ls: list[Path]) -> dict[str, Path]:\n",
    "    return {re.search(\"[A-Z]{2,}\", l.name).group(0): l for l in ls}\n",
    "\n",
    "def cut_video_into_chunks(symbol: str, srt_maps: dict, vid_maps: dict) -> list[str, Path]:\n",
    "    sub_pth, vid_pth = srt_maps.get(symbol, None), vid_maps.get(symbol, None)\n",
    "    \n",
    "    if sub_pth is None or vid_pth is None:\n",
    "        print(\"sub or vid is not exist\", sub_pth, vid_pth)\n",
    "        return\n",
    "\n",
    "    subs = pysrt.open(sub_pth)\n",
    "    \n",
    "    metadata = []\n",
    "    # Loop through the subtitles\n",
    "    for i, sub in enumerate(subs):\n",
    "        print(sub)\n",
    "        # Get the start and end times of each subtitle\n",
    "        start_time = sub.start.ordinal / 1000.0\n",
    "        end_time = sub.end.ordinal / 1000.0\n",
    "\n",
    "        # Use ffmpeg to cut the video for this subtitle\n",
    "        target_pth = VIDEO_CHUNKS_PATH / f\"{vid_pth.name}_{i:04d}.mp4\"\n",
    "        target_audio_pth = VIDEO_CHUNKS_PATH / f\"{vid_pth.name}_{i:04d}.mp3\"\n",
    "        transcription = sub.text\n",
    "        ffmpeg_extract_subclip(vid_pth, start_time, end_time, targetname=target_pth)\n",
    "        ffmpeg_extract_audio(target_pth, target_audio_pth)\n",
    "    \n",
    "        metadata.append((symbol, target_audio_pth, transcription))\n",
    "        \n",
    "    return metadata\n",
    "        "
   ]
  },
  {
   "cell_type": "code",
   "execution_count": 5,
   "id": "933998bd-2e7d-4ac7-8b04-37205c5841d6",
   "metadata": {
    "tags": []
   },
   "outputs": [],
   "source": [
    "srt_maps = gen_srt_map(capcut_srts)\n",
    "srt_maps = gen_srt_map(fr_srts, srt_maps)"
   ]
  },
  {
   "cell_type": "code",
   "execution_count": 6,
   "id": "ea1ba252-dea4-4d66-8672-6a37684099a0",
   "metadata": {
    "tags": []
   },
   "outputs": [],
   "source": [
    "vid_maps = gen_video_map(vids)"
   ]
  },
  {
   "cell_type": "code",
   "execution_count": 7,
   "id": "d07f4788-c895-4fd0-beb7-2ecea7befe52",
   "metadata": {
    "tags": []
   },
   "outputs": [
    {
     "name": "stdout",
     "output_type": "stream",
     "text": [
      "['ADB', 'ADVANC', 'BGRIM', 'BGRIMM', 'EPG', 'GC', 'GLOBAL', 'HENG', 'III', 'IP', 'IRPC', 'MTC', 'MUANGTHAI', 'NOBLE', 'PSH', 'PTTEP', 'SAK', 'SPRC', 'SPVI', 'TAN', 'THAIKOM', 'THCOM', 'THREL', 'TRIPLEI']\n",
      "['ADB', 'ADVANC', 'BGRIM', 'GC', 'HENG', 'III', 'IRPC', 'MINT', 'MTC', 'NOBLE', 'PSH', 'SAK', 'SAWAD', 'SPRC', 'SPVI', 'TAN', 'TH', 'THCOM', 'THREL']\n"
     ]
    }
   ],
   "source": [
    "print(sorted(srt_maps.keys()))\n",
    "print(sorted(vid_maps.keys()))"
   ]
  },
  {
   "cell_type": "code",
   "execution_count": 8,
   "id": "591944de-766f-452f-8d46-b10a8dbbd7c0",
   "metadata": {
    "tags": []
   },
   "outputs": [],
   "source": [
    "existing_df = pd.read_csv(ROOT_PATH / \"train_metadata.tsv\", sep=\"\\t\")"
   ]
  },
  {
   "cell_type": "code",
   "execution_count": 9,
   "id": "830c2dc0-55ac-48b1-acac-6e36abec77f5",
   "metadata": {
    "tags": []
   },
   "outputs": [],
   "source": [
    "existed_symbols = set(existing_df.symbol.unique().tolist())"
   ]
  },
  {
   "cell_type": "code",
   "execution_count": 10,
   "id": "f050a559-5c7a-4cdf-9564-879238e5fe2c",
   "metadata": {
    "tags": []
   },
   "outputs": [
    {
     "name": "stdout",
     "output_type": "stream",
     "text": [
      "{'SAK', 'MTC', 'SPVI', 'BGRIM', 'SPRC', 'THREL', 'IRPC', 'NOBLE', 'III', 'GC', 'THCOM', 'TAN', 'ADVANC', 'HENG', 'ADB', 'PSH'}\n",
      "remaining symbols: {'III', 'BGRIM', 'THCOM'}\n"
     ]
    }
   ],
   "source": [
    "target_symbols = set(vid_maps.keys()).intersection(srt_maps.keys())\n",
    "print(target_symbols)\n",
    "print(f\"remaining symbols: {target_symbols - existed_symbols}\")"
   ]
  },
  {
   "cell_type": "code",
   "execution_count": 86,
   "id": "e3ddad8e-3d5f-41be-9064-686df7c99fcc",
   "metadata": {
    "tags": []
   },
   "outputs": [],
   "source": [
    "# remaining_symbols = {\"ADB\", \"SPRC\", \"SPVI\"}\n",
    "remaining_symbols = target_symbols - existed_symbols"
   ]
  },
  {
   "cell_type": "code",
   "execution_count": 87,
   "id": "fb6466ab-95b1-427a-8e9e-6a164e5c9f9d",
   "metadata": {
    "tags": []
   },
   "outputs": [],
   "source": [
    "existing_df = existing_df[~existing_df.symbol.isin(remaining_symbols)]"
   ]
  },
  {
   "cell_type": "code",
   "execution_count": 89,
   "id": "362bc025-afc8-40e2-83a6-ef813ef6028a",
   "metadata": {
    "tags": []
   },
   "outputs": [
    {
     "name": "stdout",
     "output_type": "stream",
     "text": [
      "1\n",
      "00:00:11,110 --> 00:00:12,945\n",
      "สวัสดีค่ะท่านนักลงทุนทุกท่าน\n",
      "\n",
      "Moviepy - Running:\n",
      ">>> \"+ \" \".join(cmd)\n",
      "Moviepy - Command successful\n",
      "Moviepy - Running:\n",
      ">>> \"+ \" \".join(cmd)\n",
      "Moviepy - Command successful\n",
      "1\n",
      "00:00:11,766 --> 00:00:14,800\n",
      "สวัสดีครับท่านผู้นักลงทุนทั้งหลายนะครับ\n",
      "\n",
      "Moviepy - Running:\n",
      ">>> \"+ \" \".join(cmd)\n",
      "Moviepy - Command returned an error\n"
     ]
    },
    {
     "ename": "OSError",
     "evalue": "ffmpeg version 4.2.2-static https://johnvansickle.com/ffmpeg/  Copyright (c) 2000-2019 the FFmpeg developers\n  built with gcc 8 (Debian 8.3.0-6)\n  configuration: --enable-gpl --enable-version3 --enable-static --disable-debug --disable-ffplay --disable-indev=sndio --disable-outdev=sndio --cc=gcc --enable-fontconfig --enable-frei0r --enable-gnutls --enable-gmp --enable-libgme --enable-gray --enable-libaom --enable-libfribidi --enable-libass --enable-libvmaf --enable-libfreetype --enable-libmp3lame --enable-libopencore-amrnb --enable-libopencore-amrwb --enable-libopenjpeg --enable-librubberband --enable-libsoxr --enable-libspeex --enable-libsrt --enable-libvorbis --enable-libopus --enable-libtheora --enable-libvidstab --enable-libvo-amrwbenc --enable-libvpx --enable-libwebp --enable-libx264 --enable-libx265 --enable-libxml2 --enable-libdav1d --enable-libxvid --enable-libzvbi --enable-libzimg\n  libavutil      56. 31.100 / 56. 31.100\n  libavcodec     58. 54.100 / 58. 54.100\n  libavformat    58. 29.100 / 58. 29.100\n  libavdevice    58.  8.100 / 58.  8.100\n  libavfilter     7. 57.100 /  7. 57.100\n  libswscale      5.  5.100 /  5.  5.100\n  libswresample   3.  5.100 /  3.  5.100\n  libpostproc    55.  5.100 / 55.  5.100\nInput #0, mov,mp4,m4a,3gp,3g2,mj2, from '/home/jupyter/set-speechtotext-poc/notebooks/whisper-v3/data/Opp Day SRTs/Original Videos/x2mate.com-Oppday Q3_2023 SPVI บมจ. เอส พี วี ไอ.mp4':\n  Metadata:\n    major_brand     : mp42\n    minor_version   : 0\n    compatible_brands: isommp42\n    creation_time   : 2023-11-10T01:14:56.000000Z\n  Duration: 00:50:43.44, start: 0.000000, bitrate: 360 kb/s\n    Stream #0:0(und): Video: h264 (High) (avc1 / 0x31637661), yuv420p(tv, bt709), 1280x720 [SAR 1:1 DAR 16:9], 228 kb/s, 30 fps, 30 tbr, 15360 tbn, 60 tbc (default)\n    Metadata:\n      creation_time   : 2023-11-10T01:14:56.000000Z\n      handler_name    : ISO Media file produced by Google Inc. Created on: 11/09/2023.\n    Stream #0:1(und): Audio: aac (LC) (mp4a / 0x6134706D), 44100 Hz, stereo, fltp, 128 kb/s (default)\n    Metadata:\n      creation_time   : 2023-11-10T01:14:56.000000Z\n      handler_name    : ISO Media file produced by Google Inc. Created on: 11/09/2023.\n/home/jupyter/set-speechtotext-poc/notebooks/whisper-v3/data/Opp Day SRTs/chunks/x2mate.com-Oppday Q3_2023 SPVI บมจ. เอส พี วี ไอ.mp4_0000.mp4: Permission denied\n",
     "output_type": "error",
     "traceback": [
      "\u001b[0;31m---------------------------------------------------------------------------\u001b[0m",
      "\u001b[0;31mOSError\u001b[0m                                   Traceback (most recent call last)",
      "Cell \u001b[0;32mIn[89], line 1\u001b[0m\n\u001b[0;32m----> 1\u001b[0m results \u001b[38;5;241m=\u001b[39m \u001b[38;5;28mlist\u001b[39m(chain\u001b[38;5;241m.\u001b[39mfrom_iterable([cut_video_into_chunks(symbol, srt_maps, vid_maps) \u001b[38;5;28;01mfor\u001b[39;00m symbol \u001b[38;5;129;01min\u001b[39;00m remaining_symbols]))\n",
      "Cell \u001b[0;32mIn[89], line 1\u001b[0m, in \u001b[0;36m<listcomp>\u001b[0;34m(.0)\u001b[0m\n\u001b[0;32m----> 1\u001b[0m results \u001b[38;5;241m=\u001b[39m \u001b[38;5;28mlist\u001b[39m(chain\u001b[38;5;241m.\u001b[39mfrom_iterable([\u001b[43mcut_video_into_chunks\u001b[49m\u001b[43m(\u001b[49m\u001b[43msymbol\u001b[49m\u001b[43m,\u001b[49m\u001b[43m \u001b[49m\u001b[43msrt_maps\u001b[49m\u001b[43m,\u001b[49m\u001b[43m \u001b[49m\u001b[43mvid_maps\u001b[49m\u001b[43m)\u001b[49m \u001b[38;5;28;01mfor\u001b[39;00m symbol \u001b[38;5;129;01min\u001b[39;00m remaining_symbols]))\n",
      "Cell \u001b[0;32mIn[59], line 44\u001b[0m, in \u001b[0;36mcut_video_into_chunks\u001b[0;34m(symbol, srt_maps, vid_maps)\u001b[0m\n\u001b[1;32m     42\u001b[0m target_audio_pth \u001b[38;5;241m=\u001b[39m VIDEO_CHUNKS_PATH \u001b[38;5;241m/\u001b[39m \u001b[38;5;124mf\u001b[39m\u001b[38;5;124m\"\u001b[39m\u001b[38;5;132;01m{\u001b[39;00mvid_pth\u001b[38;5;241m.\u001b[39mname\u001b[38;5;132;01m}\u001b[39;00m\u001b[38;5;124m_\u001b[39m\u001b[38;5;132;01m{\u001b[39;00mi\u001b[38;5;132;01m:\u001b[39;00m\u001b[38;5;124m04d\u001b[39m\u001b[38;5;132;01m}\u001b[39;00m\u001b[38;5;124m.mp3\u001b[39m\u001b[38;5;124m\"\u001b[39m\n\u001b[1;32m     43\u001b[0m transcription \u001b[38;5;241m=\u001b[39m sub\u001b[38;5;241m.\u001b[39mtext\n\u001b[0;32m---> 44\u001b[0m \u001b[43mffmpeg_extract_subclip\u001b[49m\u001b[43m(\u001b[49m\u001b[43mvid_pth\u001b[49m\u001b[43m,\u001b[49m\u001b[43m \u001b[49m\u001b[43mstart_time\u001b[49m\u001b[43m,\u001b[49m\u001b[43m \u001b[49m\u001b[43mend_time\u001b[49m\u001b[43m,\u001b[49m\u001b[43m \u001b[49m\u001b[43mtargetname\u001b[49m\u001b[38;5;241;43m=\u001b[39;49m\u001b[43mtarget_pth\u001b[49m\u001b[43m)\u001b[49m\n\u001b[1;32m     45\u001b[0m ffmpeg_extract_audio(target_pth, target_audio_pth)\n\u001b[1;32m     47\u001b[0m metadata\u001b[38;5;241m.\u001b[39mappend((symbol, target_audio_pth, transcription))\n",
      "File \u001b[0;32m/opt/conda/envs/test-env/lib/python3.10/site-packages/moviepy/video/io/ffmpeg_tools.py:41\u001b[0m, in \u001b[0;36mffmpeg_extract_subclip\u001b[0;34m(filename, t1, t2, targetname)\u001b[0m\n\u001b[1;32m     33\u001b[0m     targetname \u001b[38;5;241m=\u001b[39m \u001b[38;5;124m\"\u001b[39m\u001b[38;5;132;01m%s\u001b[39;00m\u001b[38;5;124mSUB\u001b[39m\u001b[38;5;132;01m%d\u001b[39;00m\u001b[38;5;124m_\u001b[39m\u001b[38;5;132;01m%d\u001b[39;00m\u001b[38;5;124m.\u001b[39m\u001b[38;5;132;01m%s\u001b[39;00m\u001b[38;5;124m\"\u001b[39m \u001b[38;5;241m%\u001b[39m (name, T1, T2, ext)\n\u001b[1;32m     35\u001b[0m cmd \u001b[38;5;241m=\u001b[39m [get_setting(\u001b[38;5;124m\"\u001b[39m\u001b[38;5;124mFFMPEG_BINARY\u001b[39m\u001b[38;5;124m\"\u001b[39m),\u001b[38;5;124m\"\u001b[39m\u001b[38;5;124m-y\u001b[39m\u001b[38;5;124m\"\u001b[39m,\n\u001b[1;32m     36\u001b[0m        \u001b[38;5;124m\"\u001b[39m\u001b[38;5;124m-ss\u001b[39m\u001b[38;5;124m\"\u001b[39m, \u001b[38;5;124m\"\u001b[39m\u001b[38;5;132;01m%0.2f\u001b[39;00m\u001b[38;5;124m\"\u001b[39m\u001b[38;5;241m%\u001b[39mt1,\n\u001b[1;32m     37\u001b[0m        \u001b[38;5;124m\"\u001b[39m\u001b[38;5;124m-i\u001b[39m\u001b[38;5;124m\"\u001b[39m, filename,\n\u001b[1;32m     38\u001b[0m        \u001b[38;5;124m\"\u001b[39m\u001b[38;5;124m-t\u001b[39m\u001b[38;5;124m\"\u001b[39m, \u001b[38;5;124m\"\u001b[39m\u001b[38;5;132;01m%0.2f\u001b[39;00m\u001b[38;5;124m\"\u001b[39m\u001b[38;5;241m%\u001b[39m(t2\u001b[38;5;241m-\u001b[39mt1),\n\u001b[1;32m     39\u001b[0m        \u001b[38;5;124m\"\u001b[39m\u001b[38;5;124m-map\u001b[39m\u001b[38;5;124m\"\u001b[39m, \u001b[38;5;124m\"\u001b[39m\u001b[38;5;124m0\u001b[39m\u001b[38;5;124m\"\u001b[39m, \u001b[38;5;124m\"\u001b[39m\u001b[38;5;124m-vcodec\u001b[39m\u001b[38;5;124m\"\u001b[39m, \u001b[38;5;124m\"\u001b[39m\u001b[38;5;124mcopy\u001b[39m\u001b[38;5;124m\"\u001b[39m, \u001b[38;5;124m\"\u001b[39m\u001b[38;5;124m-acodec\u001b[39m\u001b[38;5;124m\"\u001b[39m, \u001b[38;5;124m\"\u001b[39m\u001b[38;5;124mcopy\u001b[39m\u001b[38;5;124m\"\u001b[39m, targetname]\n\u001b[0;32m---> 41\u001b[0m \u001b[43msubprocess_call\u001b[49m\u001b[43m(\u001b[49m\u001b[43mcmd\u001b[49m\u001b[43m)\u001b[49m\n",
      "File \u001b[0;32m/opt/conda/envs/test-env/lib/python3.10/site-packages/moviepy/tools.py:54\u001b[0m, in \u001b[0;36msubprocess_call\u001b[0;34m(cmd, logger, errorprint)\u001b[0m\n\u001b[1;32m     52\u001b[0m     \u001b[38;5;28;01mif\u001b[39;00m errorprint:\n\u001b[1;32m     53\u001b[0m         logger(message\u001b[38;5;241m=\u001b[39m\u001b[38;5;124m'\u001b[39m\u001b[38;5;124mMoviepy - Command returned an error\u001b[39m\u001b[38;5;124m'\u001b[39m)\n\u001b[0;32m---> 54\u001b[0m     \u001b[38;5;28;01mraise\u001b[39;00m \u001b[38;5;167;01mIOError\u001b[39;00m(err\u001b[38;5;241m.\u001b[39mdecode(\u001b[38;5;124m'\u001b[39m\u001b[38;5;124mutf8\u001b[39m\u001b[38;5;124m'\u001b[39m))\n\u001b[1;32m     55\u001b[0m \u001b[38;5;28;01melse\u001b[39;00m:\n\u001b[1;32m     56\u001b[0m     logger(message\u001b[38;5;241m=\u001b[39m\u001b[38;5;124m'\u001b[39m\u001b[38;5;124mMoviepy - Command successful\u001b[39m\u001b[38;5;124m'\u001b[39m)\n",
      "\u001b[0;31mOSError\u001b[0m: ffmpeg version 4.2.2-static https://johnvansickle.com/ffmpeg/  Copyright (c) 2000-2019 the FFmpeg developers\n  built with gcc 8 (Debian 8.3.0-6)\n  configuration: --enable-gpl --enable-version3 --enable-static --disable-debug --disable-ffplay --disable-indev=sndio --disable-outdev=sndio --cc=gcc --enable-fontconfig --enable-frei0r --enable-gnutls --enable-gmp --enable-libgme --enable-gray --enable-libaom --enable-libfribidi --enable-libass --enable-libvmaf --enable-libfreetype --enable-libmp3lame --enable-libopencore-amrnb --enable-libopencore-amrwb --enable-libopenjpeg --enable-librubberband --enable-libsoxr --enable-libspeex --enable-libsrt --enable-libvorbis --enable-libopus --enable-libtheora --enable-libvidstab --enable-libvo-amrwbenc --enable-libvpx --enable-libwebp --enable-libx264 --enable-libx265 --enable-libxml2 --enable-libdav1d --enable-libxvid --enable-libzvbi --enable-libzimg\n  libavutil      56. 31.100 / 56. 31.100\n  libavcodec     58. 54.100 / 58. 54.100\n  libavformat    58. 29.100 / 58. 29.100\n  libavdevice    58.  8.100 / 58.  8.100\n  libavfilter     7. 57.100 /  7. 57.100\n  libswscale      5.  5.100 /  5.  5.100\n  libswresample   3.  5.100 /  3.  5.100\n  libpostproc    55.  5.100 / 55.  5.100\nInput #0, mov,mp4,m4a,3gp,3g2,mj2, from '/home/jupyter/set-speechtotext-poc/notebooks/whisper-v3/data/Opp Day SRTs/Original Videos/x2mate.com-Oppday Q3_2023 SPVI บมจ. เอส พี วี ไอ.mp4':\n  Metadata:\n    major_brand     : mp42\n    minor_version   : 0\n    compatible_brands: isommp42\n    creation_time   : 2023-11-10T01:14:56.000000Z\n  Duration: 00:50:43.44, start: 0.000000, bitrate: 360 kb/s\n    Stream #0:0(und): Video: h264 (High) (avc1 / 0x31637661), yuv420p(tv, bt709), 1280x720 [SAR 1:1 DAR 16:9], 228 kb/s, 30 fps, 30 tbr, 15360 tbn, 60 tbc (default)\n    Metadata:\n      creation_time   : 2023-11-10T01:14:56.000000Z\n      handler_name    : ISO Media file produced by Google Inc. Created on: 11/09/2023.\n    Stream #0:1(und): Audio: aac (LC) (mp4a / 0x6134706D), 44100 Hz, stereo, fltp, 128 kb/s (default)\n    Metadata:\n      creation_time   : 2023-11-10T01:14:56.000000Z\n      handler_name    : ISO Media file produced by Google Inc. Created on: 11/09/2023.\n/home/jupyter/set-speechtotext-poc/notebooks/whisper-v3/data/Opp Day SRTs/chunks/x2mate.com-Oppday Q3_2023 SPVI บมจ. เอส พี วี ไอ.mp4_0000.mp4: Permission denied\n"
     ]
    }
   ],
   "source": [
    "results = list(chain.from_iterable([cut_video_into_chunks(symbol, srt_maps, vid_maps) for symbol in remaining_symbols]))"
   ]
  },
  {
   "cell_type": "code",
   "execution_count": 90,
   "id": "c7842f6f-a5e0-4809-9e87-4b1e8f19103e",
   "metadata": {},
   "outputs": [
    {
     "ename": "NameError",
     "evalue": "name 'results' is not defined",
     "output_type": "error",
     "traceback": [
      "\u001b[0;31m---------------------------------------------------------------------------\u001b[0m",
      "\u001b[0;31mNameError\u001b[0m                                 Traceback (most recent call last)",
      "Cell \u001b[0;32mIn[90], line 1\u001b[0m\n\u001b[0;32m----> 1\u001b[0m df \u001b[38;5;241m=\u001b[39m pd\u001b[38;5;241m.\u001b[39mDataFrame(\u001b[43mresults\u001b[49m, columns\u001b[38;5;241m=\u001b[39m[\u001b[38;5;124m\"\u001b[39m\u001b[38;5;124msymbol\u001b[39m\u001b[38;5;124m\"\u001b[39m, \u001b[38;5;124m\"\u001b[39m\u001b[38;5;124mpath\u001b[39m\u001b[38;5;124m\"\u001b[39m, \u001b[38;5;124m\"\u001b[39m\u001b[38;5;124mtranscript\u001b[39m\u001b[38;5;124m\"\u001b[39m])\n",
      "\u001b[0;31mNameError\u001b[0m: name 'results' is not defined"
     ]
    }
   ],
   "source": [
    "df = pd.DataFrame(results, columns=[\"symbol\", \"path\", \"transcript\"])"
   ]
  },
  {
   "cell_type": "code",
   "execution_count": 91,
   "id": "e4c152f8-5cf9-40ca-bbb4-470cfd7e5c2e",
   "metadata": {
    "tags": []
   },
   "outputs": [
    {
     "ename": "NameError",
     "evalue": "name 'df' is not defined",
     "output_type": "error",
     "traceback": [
      "\u001b[0;31m---------------------------------------------------------------------------\u001b[0m",
      "\u001b[0;31mNameError\u001b[0m                                 Traceback (most recent call last)",
      "Cell \u001b[0;32mIn[91], line 1\u001b[0m\n\u001b[0;32m----> 1\u001b[0m pd\u001b[38;5;241m.\u001b[39mconcat([\u001b[43mdf\u001b[49m, existing_df])\u001b[38;5;241m.\u001b[39mto_csv(ROOT_PATH \u001b[38;5;241m/\u001b[39m \u001b[38;5;124m\"\u001b[39m\u001b[38;5;124mtrain_metadata.tsv\u001b[39m\u001b[38;5;124m\"\u001b[39m, sep\u001b[38;5;241m=\u001b[39m\u001b[38;5;124m\"\u001b[39m\u001b[38;5;130;01m\\t\u001b[39;00m\u001b[38;5;124m\"\u001b[39m, index\u001b[38;5;241m=\u001b[39m\u001b[38;5;28;01mFalse\u001b[39;00m)\n",
      "\u001b[0;31mNameError\u001b[0m: name 'df' is not defined"
     ]
    }
   ],
   "source": [
    "pd.concat([df, existing_df]).to_csv(ROOT_PATH / \"train_metadata.tsv\", sep=\"\\t\", index=False)"
   ]
  },
  {
   "cell_type": "code",
   "execution_count": null,
   "id": "fdaebd4c-aa72-4899-a5b1-19b6582d7e8d",
   "metadata": {},
   "outputs": [],
   "source": []
  }
 ],
 "metadata": {
  "environment": {
   "kernel": "conda-env-test-env-py",
   "name": "workbench-notebooks.m113",
   "type": "gcloud",
   "uri": "gcr.io/deeplearning-platform-release/workbench-notebooks:m113"
  },
  "kernelspec": {
   "display_name": "Python 3 (ipykernel) (Local)",
   "language": "python",
   "name": "conda-env-test-env-py"
  },
  "language_info": {
   "codemirror_mode": {
    "name": "ipython",
    "version": 3
   },
   "file_extension": ".py",
   "mimetype": "text/x-python",
   "name": "python",
   "nbconvert_exporter": "python",
   "pygments_lexer": "ipython3",
   "version": "3.10.13"
  }
 },
 "nbformat": 4,
 "nbformat_minor": 5
}
