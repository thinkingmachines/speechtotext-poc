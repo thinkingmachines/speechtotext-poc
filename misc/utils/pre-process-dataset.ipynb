{
 "cells": [
  {
   "cell_type": "code",
   "execution_count": 136,
   "metadata": {},
   "outputs": [],
   "source": [
    "import os\n",
    "import pathlib\n",
    "import datetime\n",
    "\n",
    "import pysrt\n",
    "import pandas as pd\n",
    "from pytube import YouTube\n",
    "from pydub import AudioSegment\n",
    "from tqdm import tqdm\n",
    "import librosa\n",
    "import soundfile as sf\n"
   ]
  },
  {
   "cell_type": "code",
   "execution_count": 137,
   "metadata": {},
   "outputs": [],
   "source": [
    "ROOT_DIR = pathlib.Path.cwd().parent\n",
    "AUDIO_DOWNLOAD_DIR = ROOT_DIR / \"data/audio.code-workspace\"\n",
    "SRT_DIR = ROOT_DIR / \"data/srt_data\"\n",
    "SAK_url = 'https://www.youtube.com/watch?v=XSHwMnfW77o&list=PLQtlXHTArVHvkM-9XuDQZqwvgWASgH_qe&index=2'"
   ]
  },
  {
   "cell_type": "markdown",
   "metadata": {},
   "source": [
    "# Download audio"
   ]
  },
  {
   "cell_type": "code",
   "execution_count": 138,
   "metadata": {},
   "outputs": [],
   "source": [
    "def youtube_audio_download(video_url: str):\n",
    "    \"\"\" Function for download audio from the Youtube\"\"\"\n",
    "    video = YouTube(video_url)\n",
    "    audio = video.streams.filter(only_audio = True).first()\n",
    "\n",
    "    try:\n",
    "        audio.download(str(AUDIO_DOWNLOAD_DIR))\n",
    "    except:\n",
    "        print(\"Failed to download audio\")\n",
    "\n",
    "    print(\"audio was downloaded successfully\")"
   ]
  },
  {
   "cell_type": "code",
   "execution_count": 139,
   "metadata": {},
   "outputs": [
    {
     "name": "stdout",
     "output_type": "stream",
     "text": [
      "audio was downloaded successfully\n"
     ]
    }
   ],
   "source": [
    "youtube_audio_download(SAK_url)"
   ]
  },
  {
   "cell_type": "markdown",
   "metadata": {},
   "source": [
    "# Open SRT file"
   ]
  },
  {
   "cell_type": "code",
   "execution_count": 140,
   "metadata": {},
   "outputs": [],
   "source": [
    "target_srt = \"ADVANC-updated.srt\""
   ]
  },
  {
   "cell_type": "code",
   "execution_count": 141,
   "metadata": {},
   "outputs": [],
   "source": [
    "def to_second(date_time: datetime.time) -> datetime.time:\n",
    "    \n",
    "    total_seconds = date_time.hour * 3600 + date_time.minute * 60 + date_time.second + ((date_time.microsecond / 1e6) + 0.25)\n",
    "    return total_seconds"
   ]
  },
  {
   "cell_type": "code",
   "execution_count": 142,
   "metadata": {},
   "outputs": [],
   "source": [
    "def split_audio(audio_dir, timestamps, target_folder):\n",
    "    # Convert timestamps to sample indices\n",
    "    sampling_rate = 16000\n",
    "    y, sr = librosa.load(audio_dir, sr=sampling_rate)\n",
    "    indices = []\n",
    "    for start, stop in timestamps:\n",
    "        indices.append((int(start * sr), int((stop) * sr)))\n",
    "    audio_name = pathlib.Path(audio_dir).stem\n",
    "    dest_dir = f\"{target_folder}/{audio_name}\"\n",
    "    if not os.path.exists(dest_dir):\n",
    "        os.makedirs(dest_dir)\n",
    "    output_file_list = []\n",
    "    for i, index in tqdm(enumerate(indices)):\n",
    "        start_index, end_index = index\n",
    "        split_audio = y[start_index:end_index]\n",
    "        output_file = f\"{dest_dir}/{audio_name}_chunk_{i:05d}.wav\"\n",
    "        sf.write(output_file, split_audio, sampling_rate)\n",
    "        output_file_list.append(f\"{audio_name}/{audio_name}_chunk_{i:05d}.wav\")\n",
    "    return output_file_list"
   ]
  },
  {
   "cell_type": "code",
   "execution_count": 143,
   "metadata": {},
   "outputs": [],
   "source": [
    "subs = pysrt.open(str(SRT_DIR / target_srt))\n",
    "start_list = [to_second(sub.start.to_time()) for sub in subs if sub.text != \"\"]\n",
    "end_list = [to_second(sub.end.to_time()) for sub in subs if sub.text != \"\"]\n",
    "text_list = [sub.text for sub in subs if sub.text != \"\"]"
   ]
  },
  {
   "cell_type": "markdown",
   "metadata": {},
   "source": [
    "# split audio"
   ]
  },
  {
   "cell_type": "code",
   "execution_count": 145,
   "metadata": {},
   "outputs": [],
   "source": [
    "audio_dir = str(AUDIO_DOWNLOAD_DIR / \"Oppday Q32023 ADVANC บมจ แอดวานซ์ อินโฟร์ เซอร์วิส.mp4\")"
   ]
  },
  {
   "cell_type": "code",
   "execution_count": 146,
   "metadata": {},
   "outputs": [
    {
     "name": "stderr",
     "output_type": "stream",
     "text": [
      "/tmp/ipykernel_24467/3890521340.py:4: UserWarning: PySoundFile failed. Trying audioread instead.\n",
      "  y, sr = librosa.load(audio_dir, sr=sampling_rate)\n",
      "/home/ong_ubuntu/.cache/pypoetry/virtualenvs/set-speechtotext-poc-kSFlFoQd-py3.10/lib/python3.10/site-packages/librosa/core/audio.py:183: FutureWarning: librosa.core.audio.__audioread_load\n",
      "\tDeprecated as of librosa version 0.10.0.\n",
      "\tIt will be removed in librosa version 1.0.\n",
      "  y, sr_native = __audioread_load(path, offset, duration, dtype)\n",
      "1152it [00:02, 490.87it/s]\n"
     ]
    }
   ],
   "source": [
    "output_dirs = split_audio(\n",
    "    audio_dir,\n",
    "    zip(start_list, end_list),\n",
    "    str(ROOT_DIR / \"data\")\n",
    ")"
   ]
  },
  {
   "cell_type": "code",
   "execution_count": 147,
   "metadata": {},
   "outputs": [
    {
     "data": {
      "text/html": [
       "<div>\n",
       "<style scoped>\n",
       "    .dataframe tbody tr th:only-of-type {\n",
       "        vertical-align: middle;\n",
       "    }\n",
       "\n",
       "    .dataframe tbody tr th {\n",
       "        vertical-align: top;\n",
       "    }\n",
       "\n",
       "    .dataframe thead th {\n",
       "        text-align: right;\n",
       "    }\n",
       "</style>\n",
       "<table border=\"1\" class=\"dataframe\">\n",
       "  <thead>\n",
       "    <tr style=\"text-align: right;\">\n",
       "      <th></th>\n",
       "      <th>filename</th>\n",
       "      <th>text</th>\n",
       "      <th>start</th>\n",
       "      <th>end</th>\n",
       "    </tr>\n",
       "  </thead>\n",
       "  <tbody>\n",
       "    <tr>\n",
       "      <th>0</th>\n",
       "      <td>Oppday Q32023 ADVANC บมจ แอดวานซ์ อินโฟร์ เซอร...</td>\n",
       "      <td>สวัสดีครับ</td>\n",
       "      <td>11.883</td>\n",
       "      <td>12.683</td>\n",
       "    </tr>\n",
       "    <tr>\n",
       "      <th>1</th>\n",
       "      <td>Oppday Q32023 ADVANC บมจ แอดวานซ์ อินโฟร์ เซอร...</td>\n",
       "      <td>ท่านนักลงทุนและท่านผู้สนใจเข้ารับฟังทุกท่านนะครับ</td>\n",
       "      <td>12.750</td>\n",
       "      <td>16.216</td>\n",
       "    </tr>\n",
       "    <tr>\n",
       "      <th>2</th>\n",
       "      <td>Oppday Q32023 ADVANC บมจ แอดวานซ์ อินโฟร์ เซอร...</td>\n",
       "      <td>รายงานผลประกอบการของ บริษัท</td>\n",
       "      <td>17.350</td>\n",
       "      <td>18.983</td>\n",
       "    </tr>\n",
       "    <tr>\n",
       "      <th>3</th>\n",
       "      <td>Oppday Q32023 ADVANC บมจ แอดวานซ์ อินโฟร์ เซอร...</td>\n",
       "      <td>แอดวานซ์ อินโฟร์ เซอร์วิส มหาชน จํากัด</td>\n",
       "      <td>18.983</td>\n",
       "      <td>20.750</td>\n",
       "    </tr>\n",
       "    <tr>\n",
       "      <th>4</th>\n",
       "      <td>Oppday Q32023 ADVANC บมจ แอดวานซ์ อินโฟร์ เซอร...</td>\n",
       "      <td>ครับ ประจําไตรมาส 3</td>\n",
       "      <td>21.183</td>\n",
       "      <td>22.583</td>\n",
       "    </tr>\n",
       "  </tbody>\n",
       "</table>\n",
       "</div>"
      ],
      "text/plain": [
       "                                            filename  \\\n",
       "0  Oppday Q32023 ADVANC บมจ แอดวานซ์ อินโฟร์ เซอร...   \n",
       "1  Oppday Q32023 ADVANC บมจ แอดวานซ์ อินโฟร์ เซอร...   \n",
       "2  Oppday Q32023 ADVANC บมจ แอดวานซ์ อินโฟร์ เซอร...   \n",
       "3  Oppday Q32023 ADVANC บมจ แอดวานซ์ อินโฟร์ เซอร...   \n",
       "4  Oppday Q32023 ADVANC บมจ แอดวานซ์ อินโฟร์ เซอร...   \n",
       "\n",
       "                                                text   start     end  \n",
       "0                                         สวัสดีครับ  11.883  12.683  \n",
       "1  ท่านนักลงทุนและท่านผู้สนใจเข้ารับฟังทุกท่านนะครับ  12.750  16.216  \n",
       "2                        รายงานผลประกอบการของ บริษัท  17.350  18.983  \n",
       "3             แอดวานซ์ อินโฟร์ เซอร์วิส มหาชน จํากัด  18.983  20.750  \n",
       "4                                ครับ ประจําไตรมาส 3  21.183  22.583  "
      ]
     },
     "execution_count": 147,
     "metadata": {},
     "output_type": "execute_result"
    }
   ],
   "source": [
    "label_df = {\n",
    "    'filename': output_dirs,\n",
    "    'text': text_list,\n",
    "    'start': start_list,\n",
    "    'end': end_list\n",
    "}\n",
    "label_df = pd.DataFrame(label_df)\n",
    "label_df.head()"
   ]
  },
  {
   "cell_type": "markdown",
   "metadata": {},
   "source": [
    "# concat to previous train-label"
   ]
  },
  {
   "cell_type": "code",
   "execution_count": 111,
   "metadata": {},
   "outputs": [],
   "source": [
    "mode = \"train\""
   ]
  },
  {
   "cell_type": "code",
   "execution_count": 148,
   "metadata": {},
   "outputs": [],
   "source": [
    "date_today = datetime.date.today().strftime(\"%d_%m_%Y\")"
   ]
  },
  {
   "cell_type": "code",
   "execution_count": 149,
   "metadata": {},
   "outputs": [],
   "source": [
    "prev_label_dir = ROOT_DIR / f\"data/labels/{mode}_label_{date_today}.csv\""
   ]
  },
  {
   "cell_type": "code",
   "execution_count": 150,
   "metadata": {},
   "outputs": [
    {
     "name": "stdout",
     "output_type": "stream",
     "text": [
      "shape before merge (1651, 5)\n",
      "shape after merge (2803, 4)\n"
     ]
    }
   ],
   "source": [
    "prev_label = pd.read_csv(prev_label_dir)\n",
    "print(\"shape before merge\", prev_label.shape)\n",
    "prev_label = prev_label[['filename', 'text', 'start', 'end']]\n",
    "current_label = pd.concat((prev_label, label_df), axis=0)\n",
    "print(\"shape after merge\", current_label.shape)"
   ]
  },
  {
   "cell_type": "code",
   "execution_count": 135,
   "metadata": {},
   "outputs": [],
   "source": [
    "current_label.to_csv(ROOT_DIR / f\"data/labels/{mode}_label_{date_today}.csv\")"
   ]
  }
 ],
 "metadata": {
  "kernelspec": {
   "display_name": "set-speechtotext-poc-kSFlFoQd-py3.10",
   "language": "python",
   "name": "python3"
  },
  "language_info": {
   "codemirror_mode": {
    "name": "ipython",
    "version": 3
   },
   "file_extension": ".py",
   "mimetype": "text/x-python",
   "name": "python",
   "nbconvert_exporter": "python",
   "pygments_lexer": "ipython3",
   "version": "3.10.13"
  },
  "orig_nbformat": 4
 },
 "nbformat": 4,
 "nbformat_minor": 2
}
