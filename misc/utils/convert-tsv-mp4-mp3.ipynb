{
 "cells": [
  {
   "cell_type": "code",
   "execution_count": 3,
   "id": "6dd86f96-8df5-422a-b020-2c23cedbe5d8",
   "metadata": {
    "tags": []
   },
   "outputs": [],
   "source": [
    "from pathlib import Path\n",
    "\n",
    "import pandas as pd"
   ]
  },
  {
   "cell_type": "code",
   "execution_count": 4,
   "id": "7590bc8c-1e11-4644-900b-28b588208088",
   "metadata": {
    "tags": []
   },
   "outputs": [],
   "source": [
    "# resource config\n",
    "MODEL_CHECKPOINT_DIR = Path.cwd() / \"fine-tune-whisper-large-v3-checkpoints\"\n",
    "DATASET_CACHE_DIR = Path.cwd() / \"dataset-cache\"\n",
    "FINAL_MODEL_OUTPUT_DIR = Path.cwd() / \"fine-tune-model\"\n",
    "FINAL_PROC_OUTPUT_DIR = Path.cwd() / \"fine-tune-proc\"\n",
    "\n",
    "PRJ_ROOT = Path.cwd().parents[2]\n",
    "DATA_PATH = PRJ_ROOT / \"notebooks\" / \"whisper-v3\" / \"data\"\n",
    "COMMON_VOICE_PATH = DATA_PATH /  \"cv-corpus-15\" / \"th\"\n",
    "AUDIO_BASE_PATH = COMMON_VOICE_PATH / \"clips\"\n",
    "\n",
    "OPP_DAY_PATH = DATA_PATH / \"Opp Day SRTs\"\n",
    "OPP_DAY_AUDIO_BASE_PATH = DATA_PATH / \"Opp Day SRTs\" / \"chunks\"\n",
    "\n",
    "TEST_PATH = DATA_PATH / \"stt-dataset\" / \"test\"\n",
    "TEST_AUDIO_BASE_PATH = DATA_PATH / \"stt-dataset\" / \"[TH] Oppday Q2_2023 IP บมจ. อินเตอร์ ฟาร์มา\""
   ]
  },
  {
   "cell_type": "code",
   "execution_count": 5,
   "id": "e43c9b2b-3981-4542-af8b-8b5a93573e51",
   "metadata": {
    "tags": []
   },
   "outputs": [],
   "source": [
    "df = pd.read_csv(OPP_DAY_PATH / \"train_metadata.tsv\", sep=\"\\t\")"
   ]
  },
  {
   "cell_type": "code",
   "execution_count": 9,
   "id": "a612e5d7-9af8-4ec8-b808-d31cc75596d4",
   "metadata": {
    "tags": []
   },
   "outputs": [],
   "source": [
    "def convert_mp4_to_mp3(s: str) -> str:\n",
    "    pth = Path(s)\n",
    "    return pth.parent / (pth.stem + \".mp3\")"
   ]
  },
  {
   "cell_type": "code",
   "execution_count": 13,
   "id": "bab73fae-6aae-4360-b300-42134d0e15e3",
   "metadata": {
    "tags": []
   },
   "outputs": [],
   "source": [
    "df.assign(path=lambda df: df.path.map(convert_mp4_to_mp3)).to_csv(OPP_DAY_PATH / \"train_metadata.tsv\", sep=\"\\t\")"
   ]
  },
  {
   "cell_type": "code",
   "execution_count": null,
   "id": "b83bb724-9dc5-4e24-baff-baed18f0a766",
   "metadata": {},
   "outputs": [],
   "source": []
  }
 ],
 "metadata": {
  "environment": {
   "kernel": "conda-root-py",
   "name": "workbench-notebooks.m113",
   "type": "gcloud",
   "uri": "gcr.io/deeplearning-platform-release/workbench-notebooks:m113"
  },
  "kernelspec": {
   "display_name": "Python 3 (ipykernel) (Local)",
   "language": "python",
   "name": "conda-root-py"
  },
  "language_info": {
   "codemirror_mode": {
    "name": "ipython",
    "version": 3
   },
   "file_extension": ".py",
   "mimetype": "text/x-python",
   "name": "python",
   "nbconvert_exporter": "python",
   "pygments_lexer": "ipython3",
   "version": "3.10.13"
  }
 },
 "nbformat": 4,
 "nbformat_minor": 5
}
