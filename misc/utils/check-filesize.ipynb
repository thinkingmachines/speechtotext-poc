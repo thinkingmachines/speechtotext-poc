{
 "cells": [
  {
   "cell_type": "code",
   "execution_count": 26,
   "id": "1a16c417-5483-4fd1-b8c5-4a836c94ccc8",
   "metadata": {
    "tags": []
   },
   "outputs": [],
   "source": [
    "from pathlib import Path\n",
    "from itertools import chain\n",
    "import re\n",
    "\n",
    "import pandas as pd\n",
    "from IPython.display import Audio\n",
    "\n",
    "ROOT_PATH = Path.cwd().parent / \"data\" / \"Opp Day SRTs\"\n",
    "GOW_PATH = Path.cwd().parent / \"data\" / \"gowajee\" / \"audios\"\n",
    "(VIDEO_CHUNKS_PATH := ROOT_PATH / \"chunks\").mkdir(exist_ok=True)"
   ]
  },
  {
   "cell_type": "code",
   "execution_count": 35,
   "id": "a98d0297-8ec2-427a-8e0a-9ec481d76d73",
   "metadata": {
    "tags": []
   },
   "outputs": [],
   "source": [
    "vids = list(VIDEO_CHUNKS_PATH.rglob(\"*.mp3\"))"
   ]
  },
  {
   "cell_type": "code",
   "execution_count": 36,
   "id": "7195ee9b-f996-46d8-82c3-5da7b727996d",
   "metadata": {
    "tags": []
   },
   "outputs": [
    {
     "data": {
      "text/plain": [
       "122.591796875"
      ]
     },
     "execution_count": 36,
     "metadata": {},
     "output_type": "execute_result"
    }
   ],
   "source": [
    "vids[0].stat().st_size / 1024"
   ]
  },
  {
   "cell_type": "code",
   "execution_count": 37,
   "id": "84cf3d9c-bc57-4c1f-af8b-c576365a3e87",
   "metadata": {
    "tags": []
   },
   "outputs": [],
   "source": [
    "def get_file_size(p) -> float:\n",
    "    return p.stat().st_size / 1024 # kB"
   ]
  },
  {
   "cell_type": "code",
   "execution_count": 38,
   "id": "191f6c45-ae88-450c-afc2-8b636a334e2d",
   "metadata": {
    "tags": []
   },
   "outputs": [
    {
     "data": {
      "text/plain": [
       "count    10639.000000\n",
       "mean        82.501659\n",
       "std         58.871054\n",
       "min          1.164062\n",
       "25%         45.041016\n",
       "50%         70.551758\n",
       "75%        104.224609\n",
       "max        768.510742\n",
       "Name: 1, dtype: float64"
      ]
     },
     "execution_count": 38,
     "metadata": {},
     "output_type": "execute_result"
    }
   ],
   "source": [
    "(check := pd.DataFrame(zip(vids, map(get_file_size, vids))))[1].describe()"
   ]
  },
  {
   "cell_type": "code",
   "execution_count": 46,
   "id": "9b1d3d7b-dd93-4416-a728-b47888eeeb4e",
   "metadata": {
    "tags": []
   },
   "outputs": [
    {
     "data": {
      "text/plain": [
       "[PosixPath('/home/jupyter/set-speechtotext-poc/notebooks/whisper-v3/data/Opp Day SRTs/chunks/x2mate.com-Oppday Q3_2023 ADVANC บมจ. แอดวานซ์ อินโฟร์ เซอร์วิส.mp4_0154.mp3'),\n",
       " PosixPath('/home/jupyter/set-speechtotext-poc/notebooks/whisper-v3/data/Opp Day SRTs/chunks/x2mate.com-Oppday Q3_2023 TAN บมจ. ธนจิรา รีเทล คอร์ปอเรชั่น.mp4_1154.mp3'),\n",
       " PosixPath('/home/jupyter/set-speechtotext-poc/notebooks/whisper-v3/data/Opp Day SRTs/chunks/x2mate.com-Oppday Q3_2023 ADVANC บมจ. แอดวานซ์ อินโฟร์ เซอร์วิส.mp4_0064.mp3'),\n",
       " PosixPath('/home/jupyter/set-speechtotext-poc/notebooks/whisper-v3/data/Opp Day SRTs/chunks/x2mate.com-Oppday Q3_2023 SAK บมจ. ศักดิ์สยามลิสซิ่ง.mp4_0570.mp3'),\n",
       " PosixPath('/home/jupyter/set-speechtotext-poc/notebooks/whisper-v3/data/Opp Day SRTs/chunks/x2mate.com-Oppday Q3_2023 ADVANC บมจ. แอดวานซ์ อินโฟร์ เซอร์วิส.mp4_0111.mp3'),\n",
       " PosixPath('/home/jupyter/set-speechtotext-poc/notebooks/whisper-v3/data/Opp Day SRTs/chunks/x2mate.com-Oppday Q3_2023 ADVANC บมจ. แอดวานซ์ อินโฟร์ เซอร์วิส.mp4_0484.mp3'),\n",
       " PosixPath('/home/jupyter/set-speechtotext-poc/notebooks/whisper-v3/data/Opp Day SRTs/chunks/x2mate.com-Oppday Year End 2022 บริษัท เฮงลิสซิ่ง แอนด์ แคปปิตอล จำกัด (มหาชน) HENG.mp4_0844.mp3'),\n",
       " PosixPath('/home/jupyter/set-speechtotext-poc/notebooks/whisper-v3/data/Opp Day SRTs/chunks/x2mate.com-Oppday Year End 2022 บริษัท พฤกษา โฮลดิ้ง จำกัด (มหาชน) PSH.mp4_1157.mp3'),\n",
       " PosixPath('/home/jupyter/set-speechtotext-poc/notebooks/whisper-v3/data/Opp Day SRTs/chunks/x2mate.com-Oppday Q3_2023 ADVANC บมจ. แอดวานซ์ อินโฟร์ เซอร์วิส.mp4_0187.mp3'),\n",
       " PosixPath('/home/jupyter/set-speechtotext-poc/notebooks/whisper-v3/data/Opp Day SRTs/chunks/x2mate.com-Oppday Year End 2022 บริษัท โกลบอล คอนเน็คชั่นส์ จำกัด (มหาชน) GC.mp4_0158.mp3'),\n",
       " PosixPath('/home/jupyter/set-speechtotext-poc/notebooks/whisper-v3/data/Opp Day SRTs/chunks/x2mate.com-Oppday Year End 2022 บริษัท เฮงลิสซิ่ง แอนด์ แคปปิตอล จำกัด (มหาชน) HENG.mp4_0538.mp3'),\n",
       " PosixPath('/home/jupyter/set-speechtotext-poc/notebooks/whisper-v3/data/Opp Day SRTs/chunks/x2mate.com-Oppday Q3_2023 SPVI บมจ. เอส พี วี ไอ.mp4_0432.mp3'),\n",
       " PosixPath('/home/jupyter/set-speechtotext-poc/notebooks/whisper-v3/data/Opp Day SRTs/chunks/x2mate.com-Oppday Year End 2022 บริษัท เฮงลิสซิ่ง แอนด์ แคปปิตอล จำกัด (มหาชน) HENG.mp4_0566.mp3'),\n",
       " PosixPath('/home/jupyter/set-speechtotext-poc/notebooks/whisper-v3/data/Opp Day SRTs/chunks/x2mate.com-Oppday Year End 2022 บริษัท ไทยรีประกันชีวิต จำกัด (มหาชน) THREL.mp4_0256.mp3'),\n",
       " PosixPath('/home/jupyter/set-speechtotext-poc/notebooks/whisper-v3/data/Opp Day SRTs/chunks/x2mate.com-Oppday Q3_2023 NOBLE บมจ. โนเบิล ดีเวลลอปเมนท์.mp4_0765.mp3'),\n",
       " PosixPath('/home/jupyter/set-speechtotext-poc/notebooks/whisper-v3/data/Opp Day SRTs/chunks/x2mate.com-Oppday Year End 2022 บริษัท ไออาร์พีซี จำกัด (มหาชน) IRPC.mp4_0306.mp3'),\n",
       " PosixPath('/home/jupyter/set-speechtotext-poc/notebooks/whisper-v3/data/Opp Day SRTs/chunks/x2mate.com-Oppday Q3_2023 ADVANC บมจ. แอดวานซ์ อินโฟร์ เซอร์วิส.mp4_0525.mp3'),\n",
       " PosixPath('/home/jupyter/set-speechtotext-poc/notebooks/whisper-v3/data/Opp Day SRTs/chunks/x2mate.com-Oppday Year End 2022 บริษัท เฮงลิสซิ่ง แอนด์ แคปปิตอล จำกัด (มหาชน) HENG.mp4_0286.mp3'),\n",
       " PosixPath('/home/jupyter/set-speechtotext-poc/notebooks/whisper-v3/data/Opp Day SRTs/chunks/x2mate.com-Oppday Q3_2023 ADVANC บมจ. แอดวานซ์ อินโฟร์ เซอร์วิส.mp4_0673.mp3'),\n",
       " PosixPath('/home/jupyter/set-speechtotext-poc/notebooks/whisper-v3/data/Opp Day SRTs/chunks/x2mate.com-Oppday Year End 2022 บริษัท ไทยรีประกันชีวิต จำกัด (มหาชน) THREL.mp4_0174.mp3'),\n",
       " PosixPath('/home/jupyter/set-speechtotext-poc/notebooks/whisper-v3/data/Opp Day SRTs/chunks/x2mate.com-Oppday Year End 2022 บริษัท เฮงลิสซิ่ง แอนด์ แคปปิตอล จำกัด (มหาชน) HENG.mp4_0210.mp3'),\n",
       " PosixPath('/home/jupyter/set-speechtotext-poc/notebooks/whisper-v3/data/Opp Day SRTs/chunks/x2mate.com-Oppday Year End 2022 บริษัท เฮงลิสซิ่ง แอนด์ แคปปิตอล จำกัด (มหาชน) HENG.mp4_0208.mp3'),\n",
       " PosixPath('/home/jupyter/set-speechtotext-poc/notebooks/whisper-v3/data/Opp Day SRTs/chunks/x2mate.com-Oppday Year End 2022 บริษัท ไทยรีประกันชีวิต จำกัด (มหาชน) THREL.mp4_0357.mp3'),\n",
       " PosixPath('/home/jupyter/set-speechtotext-poc/notebooks/whisper-v3/data/Opp Day SRTs/chunks/x2mate.com-Oppday Q3_2023 NOBLE บมจ. โนเบิล ดีเวลลอปเมนท์.mp4_0758.mp3'),\n",
       " PosixPath('/home/jupyter/set-speechtotext-poc/notebooks/whisper-v3/data/Opp Day SRTs/chunks/x2mate.com-Oppday Q3_2023 ADVANC บมจ. แอดวานซ์ อินโฟร์ เซอร์วิส.mp4_0629.mp3'),\n",
       " PosixPath('/home/jupyter/set-speechtotext-poc/notebooks/whisper-v3/data/Opp Day SRTs/chunks/x2mate.com-Oppday Year End 2022 บริษัท เฮงลิสซิ่ง แอนด์ แคปปิตอล จำกัด (มหาชน) HENG.mp4_0170.mp3'),\n",
       " PosixPath('/home/jupyter/set-speechtotext-poc/notebooks/whisper-v3/data/Opp Day SRTs/chunks/x2mate.com-Oppday Year End 2022 บริษัท ไทยรีประกันชีวิต จำกัด (มหาชน) THREL.mp4_0687.mp3'),\n",
       " PosixPath('/home/jupyter/set-speechtotext-poc/notebooks/whisper-v3/data/Opp Day SRTs/chunks/x2mate.com-Oppday Q3_2023 ADVANC บมจ. แอดวานซ์ อินโฟร์ เซอร์วิส.mp4_0575.mp3'),\n",
       " PosixPath('/home/jupyter/set-speechtotext-poc/notebooks/whisper-v3/data/Opp Day SRTs/chunks/x2mate.com-Oppday Year End 2022 บริษัท ไออาร์พีซี จำกัด (มหาชน) IRPC.mp4_1216.mp3'),\n",
       " PosixPath('/home/jupyter/set-speechtotext-poc/notebooks/whisper-v3/data/Opp Day SRTs/chunks/x2mate.com-Oppday Year End 2022 บริษัท ไออาร์พีซี จำกัด (มหาชน) IRPC.mp4_0492.mp3'),\n",
       " PosixPath('/home/jupyter/set-speechtotext-poc/notebooks/whisper-v3/data/Opp Day SRTs/chunks/x2mate.com-Oppday Q3_2023 ADVANC บมจ. แอดวานซ์ อินโฟร์ เซอร์วิส.mp4_1103.mp3'),\n",
       " PosixPath('/home/jupyter/set-speechtotext-poc/notebooks/whisper-v3/data/Opp Day SRTs/chunks/x2mate.com-Oppday Year End 2022 บริษัท พฤกษา โฮลดิ้ง จำกัด (มหาชน) PSH.mp4_1037.mp3'),\n",
       " PosixPath('/home/jupyter/set-speechtotext-poc/notebooks/whisper-v3/data/Opp Day SRTs/chunks/x2mate.com-Oppday Q3_2023 NOBLE บมจ. โนเบิล ดีเวลลอปเมนท์.mp4_0763.mp3'),\n",
       " PosixPath('/home/jupyter/set-speechtotext-poc/notebooks/whisper-v3/data/Opp Day SRTs/chunks/x2mate.com-Oppday Q3_2023 ADVANC บมจ. แอดวานซ์ อินโฟร์ เซอร์วิส.mp4_0701.mp3'),\n",
       " PosixPath('/home/jupyter/set-speechtotext-poc/notebooks/whisper-v3/data/Opp Day SRTs/chunks/x2mate.com-Oppday Q3_2023 TAN บมจ. ธนจิรา รีเทล คอร์ปอเรชั่น.mp4_0550.mp3'),\n",
       " PosixPath('/home/jupyter/set-speechtotext-poc/notebooks/whisper-v3/data/Opp Day SRTs/chunks/x2mate.com-Oppday Q3_2023 ADVANC บมจ. แอดวานซ์ อินโฟร์ เซอร์วิส.mp4_0110.mp3'),\n",
       " PosixPath('/home/jupyter/set-speechtotext-poc/notebooks/whisper-v3/data/Opp Day SRTs/chunks/x2mate.com-Oppday Q3_2023 ADVANC บมจ. แอดวานซ์ อินโฟร์ เซอร์วิส.mp4_0519.mp3'),\n",
       " PosixPath('/home/jupyter/set-speechtotext-poc/notebooks/whisper-v3/data/Opp Day SRTs/chunks/x2mate.com-Oppday Year End 2022 บริษัท ไทยรีประกันชีวิต จำกัด (มหาชน) THREL.mp4_0039.mp3'),\n",
       " PosixPath('/home/jupyter/set-speechtotext-poc/notebooks/whisper-v3/data/Opp Day SRTs/chunks/x2mate.com-Oppday Year End 2022 บริษัท ไออาร์พีซี จำกัด (มหาชน) IRPC.mp4_1011.mp3'),\n",
       " PosixPath('/home/jupyter/set-speechtotext-poc/notebooks/whisper-v3/data/Opp Day SRTs/chunks/x2mate.com-Oppday Year End 2022 บริษัท เฮงลิสซิ่ง แอนด์ แคปปิตอล จำกัด (มหาชน) HENG.mp4_0561.mp3'),\n",
       " PosixPath('/home/jupyter/set-speechtotext-poc/notebooks/whisper-v3/data/Opp Day SRTs/chunks/x2mate.com-Oppday Q3_2023 ADVANC บมจ. แอดวานซ์ อินโฟร์ เซอร์วิส.mp4_0072.mp3'),\n",
       " PosixPath('/home/jupyter/set-speechtotext-poc/notebooks/whisper-v3/data/Opp Day SRTs/chunks/x2mate.com-Oppday Year End 2022 บริษัท พฤกษา โฮลดิ้ง จำกัด (มหาชน) PSH.mp4_0610.mp3'),\n",
       " PosixPath('/home/jupyter/set-speechtotext-poc/notebooks/whisper-v3/data/Opp Day SRTs/chunks/x2mate.com-Oppday Year End 2022 บริษัท พฤกษา โฮลดิ้ง จำกัด (มหาชน) PSH.mp4_0733.mp3'),\n",
       " PosixPath('/home/jupyter/set-speechtotext-poc/notebooks/whisper-v3/data/Opp Day SRTs/chunks/x2mate.com-Oppday Year End 2022 บริษัท เฮงลิสซิ่ง แอนด์ แคปปิตอล จำกัด (มหาชน) HENG.mp4_0176.mp3'),\n",
       " PosixPath('/home/jupyter/set-speechtotext-poc/notebooks/whisper-v3/data/Opp Day SRTs/chunks/x2mate.com-Oppday Q3_2023 ADVANC บมจ. แอดวานซ์ อินโฟร์ เซอร์วิส.mp4_0808.mp3'),\n",
       " PosixPath('/home/jupyter/set-speechtotext-poc/notebooks/whisper-v3/data/Opp Day SRTs/chunks/x2mate.com-Oppday Q3_2023 TAN บมจ. ธนจิรา รีเทล คอร์ปอเรชั่น.mp4_0726.mp3'),\n",
       " PosixPath('/home/jupyter/set-speechtotext-poc/notebooks/whisper-v3/data/Opp Day SRTs/chunks/x2mate.com-Oppday Year End 2022 บริษัท ไออาร์พีซี จำกัด (มหาชน) IRPC.mp4_1059.mp3'),\n",
       " PosixPath('/home/jupyter/set-speechtotext-poc/notebooks/whisper-v3/data/Opp Day SRTs/chunks/x2mate.com-Oppday Q3_2023 TAN บมจ. ธนจิรา รีเทล คอร์ปอเรชั่น.mp4_0545.mp3'),\n",
       " PosixPath('/home/jupyter/set-speechtotext-poc/notebooks/whisper-v3/data/Opp Day SRTs/chunks/x2mate.com-Oppday Year End 2022 บริษัท เฮงลิสซิ่ง แอนด์ แคปปิตอล จำกัด (มหาชน) HENG.mp4_0506.mp3'),\n",
       " PosixPath('/home/jupyter/set-speechtotext-poc/notebooks/whisper-v3/data/Opp Day SRTs/chunks/x2mate.com-Oppday Year End 2022 บริษัท เฮงลิสซิ่ง แอนด์ แคปปิตอล จำกัด (มหาชน) HENG.mp4_0557.mp3'),\n",
       " PosixPath('/home/jupyter/set-speechtotext-poc/notebooks/whisper-v3/data/Opp Day SRTs/chunks/x2mate.com-Oppday Q3_2023 TAN บมจ. ธนจิรา รีเทล คอร์ปอเรชั่น.mp4_0194.mp3'),\n",
       " PosixPath('/home/jupyter/set-speechtotext-poc/notebooks/whisper-v3/data/Opp Day SRTs/chunks/x2mate.com-Oppday Year End 2022 บริษัท ไทยรีประกันชีวิต จำกัด (มหาชน) THREL.mp4_0676.mp3'),\n",
       " PosixPath('/home/jupyter/set-speechtotext-poc/notebooks/whisper-v3/data/Opp Day SRTs/chunks/x2mate.com-Oppday Year End 2022 บริษัท ไออาร์พีซี จำกัด (มหาชน) IRPC.mp4_0300.mp3'),\n",
       " PosixPath('/home/jupyter/set-speechtotext-poc/notebooks/whisper-v3/data/Opp Day SRTs/chunks/x2mate.com-Oppday Year End 2022 บริษัท พฤกษา โฮลดิ้ง จำกัด (มหาชน) PSH.mp4_0756.mp3'),\n",
       " PosixPath('/home/jupyter/set-speechtotext-poc/notebooks/whisper-v3/data/Opp Day SRTs/chunks/x2mate.com-Oppday Year End 2022 บริษัท ไทยรีประกันชีวิต จำกัด (มหาชน) THREL.mp4_0210.mp3'),\n",
       " PosixPath('/home/jupyter/set-speechtotext-poc/notebooks/whisper-v3/data/Opp Day SRTs/chunks/x2mate.com-Oppday Year End 2022 บริษัท ไทยรีประกันชีวิต จำกัด (มหาชน) THREL.mp4_0411.mp3'),\n",
       " PosixPath('/home/jupyter/set-speechtotext-poc/notebooks/whisper-v3/data/Opp Day SRTs/chunks/x2mate.com-Oppday Year End 2022 บริษัท ไออาร์พีซี จำกัด (มหาชน) IRPC.mp4_0207.mp3'),\n",
       " PosixPath('/home/jupyter/set-speechtotext-poc/notebooks/whisper-v3/data/Opp Day SRTs/chunks/x2mate.com-Oppday Q3_2023 SAK บมจ. ศักดิ์สยามลิสซิ่ง.mp4_0072.mp3'),\n",
       " PosixPath('/home/jupyter/set-speechtotext-poc/notebooks/whisper-v3/data/Opp Day SRTs/chunks/x2mate.com-Oppday Year End 2022 บริษัท ไทยรีประกันชีวิต จำกัด (มหาชน) THREL.mp4_0829.mp3'),\n",
       " PosixPath('/home/jupyter/set-speechtotext-poc/notebooks/whisper-v3/data/Opp Day SRTs/chunks/x2mate.com-Oppday Year End 2022 บริษัท เฮงลิสซิ่ง แอนด์ แคปปิตอล จำกัด (มหาชน) HENG.mp4_0890.mp3'),\n",
       " PosixPath('/home/jupyter/set-speechtotext-poc/notebooks/whisper-v3/data/Opp Day SRTs/chunks/x2mate.com-Oppday Year End 2022 บริษัท ไออาร์พีซี จำกัด (มหาชน) IRPC.mp4_0445.mp3'),\n",
       " PosixPath('/home/jupyter/set-speechtotext-poc/notebooks/whisper-v3/data/Opp Day SRTs/chunks/x2mate.com-Oppday Year End 2022 บริษัท ไทยรีประกันชีวิต จำกัด (มหาชน) THREL.mp4_0308.mp3'),\n",
       " PosixPath('/home/jupyter/set-speechtotext-poc/notebooks/whisper-v3/data/Opp Day SRTs/chunks/x2mate.com-Oppday Year End 2022 บริษัท โกลบอล คอนเน็คชั่นส์ จำกัด (มหาชน) GC.mp4_0797.mp3'),\n",
       " PosixPath('/home/jupyter/set-speechtotext-poc/notebooks/whisper-v3/data/Opp Day SRTs/chunks/x2mate.com-Oppday Q3_2023 SPVI บมจ. เอส พี วี ไอ.mp4_0482.mp3'),\n",
       " PosixPath('/home/jupyter/set-speechtotext-poc/notebooks/whisper-v3/data/Opp Day SRTs/chunks/x2mate.com-Oppday Year End 2022 บริษัท เฮงลิสซิ่ง แอนด์ แคปปิตอล จำกัด (มหาชน) HENG.mp4_0192.mp3'),\n",
       " PosixPath('/home/jupyter/set-speechtotext-poc/notebooks/whisper-v3/data/Opp Day SRTs/chunks/x2mate.com-Oppday Q3_2023 TAN บมจ. ธนจิรา รีเทล คอร์ปอเรชั่น.mp4_0050.mp3'),\n",
       " PosixPath('/home/jupyter/set-speechtotext-poc/notebooks/whisper-v3/data/Opp Day SRTs/chunks/x2mate.com-Oppday Q3_2023 NOBLE บมจ. โนเบิล ดีเวลลอปเมนท์.mp4_0761.mp3'),\n",
       " PosixPath('/home/jupyter/set-speechtotext-poc/notebooks/whisper-v3/data/Opp Day SRTs/chunks/x2mate.com-Oppday Year End 2022 บริษัท ไออาร์พีซี จำกัด (มหาชน) IRPC.mp4_0595.mp3'),\n",
       " PosixPath('/home/jupyter/set-speechtotext-poc/notebooks/whisper-v3/data/Opp Day SRTs/chunks/x2mate.com-Oppday Q3_2023 NOBLE บมจ. โนเบิล ดีเวลลอปเมนท์.mp4_0760.mp3'),\n",
       " PosixPath('/home/jupyter/set-speechtotext-poc/notebooks/whisper-v3/data/Opp Day SRTs/chunks/x2mate.com-Oppday Year End 2022 บริษัท พฤกษา โฮลดิ้ง จำกัด (มหาชน) PSH.mp4_0941.mp3'),\n",
       " PosixPath('/home/jupyter/set-speechtotext-poc/notebooks/whisper-v3/data/Opp Day SRTs/chunks/x2mate.com-Oppday Year End 2022 บริษัท พฤกษา โฮลดิ้ง จำกัด (มหาชน) PSH.mp4_0308.mp3'),\n",
       " PosixPath('/home/jupyter/set-speechtotext-poc/notebooks/whisper-v3/data/Opp Day SRTs/chunks/x2mate.com-Oppday Q3_2023 ADVANC บมจ. แอดวานซ์ อินโฟร์ เซอร์วิส.mp4_0521.mp3'),\n",
       " PosixPath('/home/jupyter/set-speechtotext-poc/notebooks/whisper-v3/data/Opp Day SRTs/chunks/x2mate.com-Oppday Q3_2023 NOBLE บมจ. โนเบิล ดีเวลลอปเมนท์.mp4_0764.mp3'),\n",
       " PosixPath('/home/jupyter/set-speechtotext-poc/notebooks/whisper-v3/data/Opp Day SRTs/chunks/x2mate.com-Oppday Year End 2022 บริษัท พฤกษา โฮลดิ้ง จำกัด (มหาชน) PSH.mp4_1130.mp3'),\n",
       " PosixPath('/home/jupyter/set-speechtotext-poc/notebooks/whisper-v3/data/Opp Day SRTs/chunks/x2mate.com-Oppday Year End 2022 บริษัท เฮงลิสซิ่ง แอนด์ แคปปิตอล จำกัด (มหาชน) HENG.mp4_0384.mp3'),\n",
       " PosixPath('/home/jupyter/set-speechtotext-poc/notebooks/whisper-v3/data/Opp Day SRTs/chunks/x2mate.com-Oppday Q3_2023 TAN บมจ. ธนจิรา รีเทล คอร์ปอเรชั่น.mp4_0672.mp3'),\n",
       " PosixPath('/home/jupyter/set-speechtotext-poc/notebooks/whisper-v3/data/Opp Day SRTs/chunks/x2mate.com-Oppday Year End 2022 บริษัท ไทยรีประกันชีวิต จำกัด (มหาชน) THREL.mp4_0764.mp3'),\n",
       " PosixPath('/home/jupyter/set-speechtotext-poc/notebooks/whisper-v3/data/Opp Day SRTs/chunks/x2mate.com-Oppday Q3_2023 ADVANC บมจ. แอดวานซ์ อินโฟร์ เซอร์วิส.mp4_0429.mp3'),\n",
       " PosixPath('/home/jupyter/set-speechtotext-poc/notebooks/whisper-v3/data/Opp Day SRTs/chunks/x2mate.com-Oppday Q3_2023 SPVI บมจ. เอส พี วี ไอ.mp4_0477.mp3'),\n",
       " PosixPath('/home/jupyter/set-speechtotext-poc/notebooks/whisper-v3/data/Opp Day SRTs/chunks/x2mate.com-Oppday Year End 2022 บริษัท โกลบอล คอนเน็คชั่นส์ จำกัด (มหาชน) GC.mp4_0016.mp3'),\n",
       " PosixPath('/home/jupyter/set-speechtotext-poc/notebooks/whisper-v3/data/Opp Day SRTs/chunks/x2mate.com-Oppday Q3_2023 ADVANC บมจ. แอดวานซ์ อินโฟร์ เซอร์วิส.mp4_0062.mp3'),\n",
       " PosixPath('/home/jupyter/set-speechtotext-poc/notebooks/whisper-v3/data/Opp Day SRTs/chunks/x2mate.com-Oppday Year End 2022 บริษัท พฤกษา โฮลดิ้ง จำกัด (มหาชน) PSH.mp4_0671.mp3'),\n",
       " PosixPath('/home/jupyter/set-speechtotext-poc/notebooks/whisper-v3/data/Opp Day SRTs/chunks/x2mate.com-Oppday Q3_2023 SPVI บมจ. เอส พี วี ไอ.mp4_0654.mp3'),\n",
       " PosixPath('/home/jupyter/set-speechtotext-poc/notebooks/whisper-v3/data/Opp Day SRTs/chunks/x2mate.com-Oppday Year End 2022 บริษัท ไทยรีประกันชีวิต จำกัด (มหาชน) THREL.mp4_0156.mp3'),\n",
       " PosixPath('/home/jupyter/set-speechtotext-poc/notebooks/whisper-v3/data/Opp Day SRTs/chunks/x2mate.com-Oppday Q3_2023 NOBLE บมจ. โนเบิล ดีเวลลอปเมนท์.mp4_0770.mp3'),\n",
       " PosixPath('/home/jupyter/set-speechtotext-poc/notebooks/whisper-v3/data/Opp Day SRTs/chunks/x2mate.com-Oppday Year End 2022 บริษัท ไทยรีประกันชีวิต จำกัด (มหาชน) THREL.mp4_0859.mp3'),\n",
       " PosixPath('/home/jupyter/set-speechtotext-poc/notebooks/whisper-v3/data/Opp Day SRTs/chunks/x2mate.com-Oppday Year End 2022 บริษัท ไทยรีประกันชีวิต จำกัด (มหาชน) THREL.mp4_0847.mp3'),\n",
       " PosixPath('/home/jupyter/set-speechtotext-poc/notebooks/whisper-v3/data/Opp Day SRTs/chunks/x2mate.com-Oppday Q3_2023 ADVANC บมจ. แอดวานซ์ อินโฟร์ เซอร์วิส.mp4_1053.mp3'),\n",
       " PosixPath('/home/jupyter/set-speechtotext-poc/notebooks/whisper-v3/data/Opp Day SRTs/chunks/x2mate.com-Oppday Q3_2023 ADVANC บมจ. แอดวานซ์ อินโฟร์ เซอร์วิส.mp4_0239.mp3'),\n",
       " PosixPath('/home/jupyter/set-speechtotext-poc/notebooks/whisper-v3/data/Opp Day SRTs/chunks/x2mate.com-Oppday Q3_2023 TAN บมจ. ธนจิรา รีเทล คอร์ปอเรชั่น.mp4_0360.mp3'),\n",
       " PosixPath('/home/jupyter/set-speechtotext-poc/notebooks/whisper-v3/data/Opp Day SRTs/chunks/x2mate.com-Oppday Q3_2023 ADVANC บมจ. แอดวานซ์ อินโฟร์ เซอร์วิส.mp4_0145.mp3'),\n",
       " PosixPath('/home/jupyter/set-speechtotext-poc/notebooks/whisper-v3/data/Opp Day SRTs/chunks/x2mate.com-Oppday Q3_2023 SPVI บมจ. เอส พี วี ไอ.mp4_0135.mp3'),\n",
       " PosixPath('/home/jupyter/set-speechtotext-poc/notebooks/whisper-v3/data/Opp Day SRTs/chunks/x2mate.com-Oppday Year End 2022 บริษัท โกลบอล คอนเน็คชั่นส์ จำกัด (มหาชน) GC.mp4_0140.mp3'),\n",
       " PosixPath('/home/jupyter/set-speechtotext-poc/notebooks/whisper-v3/data/Opp Day SRTs/chunks/x2mate.com-Oppday Year End 2022 บริษัท พฤกษา โฮลดิ้ง จำกัด (มหาชน) PSH.mp4_0896.mp3'),\n",
       " PosixPath('/home/jupyter/set-speechtotext-poc/notebooks/whisper-v3/data/Opp Day SRTs/chunks/x2mate.com-Oppday Year End 2022 บริษัท ไทยรีประกันชีวิต จำกัด (มหาชน) THREL.mp4_0564.mp3'),\n",
       " PosixPath('/home/jupyter/set-speechtotext-poc/notebooks/whisper-v3/data/Opp Day SRTs/chunks/x2mate.com-Oppday Q3_2023 SPVI บมจ. เอส พี วี ไอ.mp4_0884.mp3'),\n",
       " PosixPath('/home/jupyter/set-speechtotext-poc/notebooks/whisper-v3/data/Opp Day SRTs/chunks/x2mate.com-Oppday Q3_2023 NOBLE บมจ. โนเบิล ดีเวลลอปเมนท์.mp4_0762.mp3'),\n",
       " PosixPath('/home/jupyter/set-speechtotext-poc/notebooks/whisper-v3/data/Opp Day SRTs/chunks/x2mate.com-Oppday Q3_2023 NOBLE บมจ. โนเบิล ดีเวลลอปเมนท์.mp4_0669.mp3'),\n",
       " PosixPath('/home/jupyter/set-speechtotext-poc/notebooks/whisper-v3/data/Opp Day SRTs/chunks/x2mate.com-Oppday Year End 2022 บริษัท พฤกษา โฮลดิ้ง จำกัด (มหาชน) PSH.mp4_1071.mp3'),\n",
       " PosixPath('/home/jupyter/set-speechtotext-poc/notebooks/whisper-v3/data/Opp Day SRTs/chunks/x2mate.com-Oppday Year End 2022 บริษัท พฤกษา โฮลดิ้ง จำกัด (มหาชน) PSH.mp4_0062.mp3'),\n",
       " PosixPath('/home/jupyter/set-speechtotext-poc/notebooks/whisper-v3/data/Opp Day SRTs/chunks/x2mate.com-Oppday Q3_2023 TAN บมจ. ธนจิรา รีเทล คอร์ปอเรชั่น.mp4_0512.mp3'),\n",
       " PosixPath('/home/jupyter/set-speechtotext-poc/notebooks/whisper-v3/data/Opp Day SRTs/chunks/x2mate.com-Oppday Year End 2022 บริษัท พฤกษา โฮลดิ้ง จำกัด (มหาชน) PSH.mp4_0164.mp3'),\n",
       " PosixPath('/home/jupyter/set-speechtotext-poc/notebooks/whisper-v3/data/Opp Day SRTs/chunks/x2mate.com-Oppday Q3_2023 TAN บมจ. ธนจิรา รีเทล คอร์ปอเรชั่น.mp4_1060.mp3'),\n",
       " PosixPath('/home/jupyter/set-speechtotext-poc/notebooks/whisper-v3/data/Opp Day SRTs/chunks/x2mate.com-Oppday Q3_2023 ADVANC บมจ. แอดวานซ์ อินโฟร์ เซอร์วิส.mp4_0760.mp3'),\n",
       " PosixPath('/home/jupyter/set-speechtotext-poc/notebooks/whisper-v3/data/Opp Day SRTs/chunks/x2mate.com-Oppday Q3_2023 TAN บมจ. ธนจิรา รีเทล คอร์ปอเรชั่น.mp4_0042.mp3'),\n",
       " PosixPath('/home/jupyter/set-speechtotext-poc/notebooks/whisper-v3/data/Opp Day SRTs/chunks/x2mate.com-Oppday Q3_2023 SPVI บมจ. เอส พี วี ไอ.mp4_0781.mp3'),\n",
       " PosixPath('/home/jupyter/set-speechtotext-poc/notebooks/whisper-v3/data/Opp Day SRTs/chunks/x2mate.com-Oppday Q3_2023 ADVANC บมจ. แอดวานซ์ อินโฟร์ เซอร์วิส.mp4_0932.mp3'),\n",
       " PosixPath('/home/jupyter/set-speechtotext-poc/notebooks/whisper-v3/data/Opp Day SRTs/chunks/x2mate.com-Oppday Year End 2022 บริษัท พฤกษา โฮลดิ้ง จำกัด (มหาชน) PSH.mp4_0531.mp3'),\n",
       " PosixPath('/home/jupyter/set-speechtotext-poc/notebooks/whisper-v3/data/Opp Day SRTs/chunks/x2mate.com-Oppday Year End 2022 บริษัท พฤกษา โฮลดิ้ง จำกัด (มหาชน) PSH.mp4_0489.mp3'),\n",
       " PosixPath('/home/jupyter/set-speechtotext-poc/notebooks/whisper-v3/data/Opp Day SRTs/chunks/x2mate.com-Oppday Q3_2023 TAN บมจ. ธนจิรา รีเทล คอร์ปอเรชั่น.mp4_0766.mp3'),\n",
       " PosixPath('/home/jupyter/set-speechtotext-poc/notebooks/whisper-v3/data/Opp Day SRTs/chunks/x2mate.com-Oppday Year End 2022 บริษัท เฮงลิสซิ่ง แอนด์ แคปปิตอล จำกัด (มหาชน) HENG.mp4_0279.mp3'),\n",
       " PosixPath('/home/jupyter/set-speechtotext-poc/notebooks/whisper-v3/data/Opp Day SRTs/chunks/x2mate.com-Oppday Q3_2023 ADVANC บมจ. แอดวานซ์ อินโฟร์ เซอร์วิส.mp4_0301.mp3'),\n",
       " PosixPath('/home/jupyter/set-speechtotext-poc/notebooks/whisper-v3/data/Opp Day SRTs/chunks/x2mate.com-Oppday Year End 2022 บริษัท เฮงลิสซิ่ง แอนด์ แคปปิตอล จำกัด (มหาชน) HENG.mp4_0437.mp3'),\n",
       " PosixPath('/home/jupyter/set-speechtotext-poc/notebooks/whisper-v3/data/Opp Day SRTs/chunks/x2mate.com-Oppday Q3_2023 SPVI บมจ. เอส พี วี ไอ.mp4_0008.mp3'),\n",
       " PosixPath('/home/jupyter/set-speechtotext-poc/notebooks/whisper-v3/data/Opp Day SRTs/chunks/x2mate.com-Oppday Q3_2023 SPVI บมจ. เอส พี วี ไอ.mp4_0686.mp3'),\n",
       " PosixPath('/home/jupyter/set-speechtotext-poc/notebooks/whisper-v3/data/Opp Day SRTs/chunks/x2mate.com-Oppday Year End 2022 บริษัท เฮงลิสซิ่ง แอนด์ แคปปิตอล จำกัด (มหาชน) HENG.mp4_0086.mp3'),\n",
       " PosixPath('/home/jupyter/set-speechtotext-poc/notebooks/whisper-v3/data/Opp Day SRTs/chunks/x2mate.com-Oppday Year End 2022 บริษัท ไทยรีประกันชีวิต จำกัด (มหาชน) THREL.mp4_0852.mp3'),\n",
       " PosixPath('/home/jupyter/set-speechtotext-poc/notebooks/whisper-v3/data/Opp Day SRTs/chunks/x2mate.com-Oppday Year End 2022 บริษัท เฮงลิสซิ่ง แอนด์ แคปปิตอล จำกัด (มหาชน) HENG.mp4_0173.mp3'),\n",
       " PosixPath('/home/jupyter/set-speechtotext-poc/notebooks/whisper-v3/data/Opp Day SRTs/chunks/x2mate.com-Oppday Year End 2022 บริษัท โกลบอล คอนเน็คชั่นส์ จำกัด (มหาชน) GC.mp4_0156.mp3'),\n",
       " PosixPath('/home/jupyter/set-speechtotext-poc/notebooks/whisper-v3/data/Opp Day SRTs/chunks/x2mate.com-Oppday Q3_2023 NOBLE บมจ. โนเบิล ดีเวลลอปเมนท์.mp4_0768.mp3'),\n",
       " PosixPath('/home/jupyter/set-speechtotext-poc/notebooks/whisper-v3/data/Opp Day SRTs/chunks/x2mate.com-Oppday Year End 2022 บริษัท พฤกษา โฮลดิ้ง จำกัด (มหาชน) PSH.mp4_1125.mp3'),\n",
       " PosixPath('/home/jupyter/set-speechtotext-poc/notebooks/whisper-v3/data/Opp Day SRTs/chunks/x2mate.com-Oppday Q3_2023 ADVANC บมจ. แอดวานซ์ อินโฟร์ เซอร์วิส.mp4_0539.mp3'),\n",
       " PosixPath('/home/jupyter/set-speechtotext-poc/notebooks/whisper-v3/data/Opp Day SRTs/chunks/x2mate.com-Oppday Q3_2023 TAN บมจ. ธนจิรา รีเทล คอร์ปอเรชั่น.mp4_0612.mp3'),\n",
       " PosixPath('/home/jupyter/set-speechtotext-poc/notebooks/whisper-v3/data/Opp Day SRTs/chunks/x2mate.com-Oppday Year End 2022 บริษัท พฤกษา โฮลดิ้ง จำกัด (มหาชน) PSH.mp4_0510.mp3'),\n",
       " PosixPath('/home/jupyter/set-speechtotext-poc/notebooks/whisper-v3/data/Opp Day SRTs/chunks/x2mate.com-Oppday Q3_2023 SAK บมจ. ศักดิ์สยามลิสซิ่ง.mp4_0350.mp3'),\n",
       " PosixPath('/home/jupyter/set-speechtotext-poc/notebooks/whisper-v3/data/Opp Day SRTs/chunks/x2mate.com-Oppday Year End 2022 บริษัท พฤกษา โฮลดิ้ง จำกัด (มหาชน) PSH.mp4_0608.mp3'),\n",
       " PosixPath('/home/jupyter/set-speechtotext-poc/notebooks/whisper-v3/data/Opp Day SRTs/chunks/x2mate.com-Oppday Year End 2022 บริษัท เฮงลิสซิ่ง แอนด์ แคปปิตอล จำกัด (มหาชน) HENG.mp4_0864.mp3'),\n",
       " PosixPath('/home/jupyter/set-speechtotext-poc/notebooks/whisper-v3/data/Opp Day SRTs/chunks/x2mate.com-Oppday Year End 2022 บริษัท โกลบอล คอนเน็คชั่นส์ จำกัด (มหาชน) GC.mp4_0988.mp3'),\n",
       " PosixPath('/home/jupyter/set-speechtotext-poc/notebooks/whisper-v3/data/Opp Day SRTs/chunks/x2mate.com-Oppday Year End 2022 บริษัท ไทยรีประกันชีวิต จำกัด (มหาชน) THREL.mp4_0580.mp3'),\n",
       " PosixPath('/home/jupyter/set-speechtotext-poc/notebooks/whisper-v3/data/Opp Day SRTs/chunks/x2mate.com-Oppday Year End 2022 บริษัท พฤกษา โฮลดิ้ง จำกัด (มหาชน) PSH.mp4_0488.mp3'),\n",
       " PosixPath('/home/jupyter/set-speechtotext-poc/notebooks/whisper-v3/data/Opp Day SRTs/chunks/x2mate.com-Oppday Q3_2023 SAK บมจ. ศักดิ์สยามลิสซิ่ง.mp4_0343.mp3'),\n",
       " PosixPath('/home/jupyter/set-speechtotext-poc/notebooks/whisper-v3/data/Opp Day SRTs/chunks/x2mate.com-Oppday Year End 2022 บริษัท ไออาร์พีซี จำกัด (มหาชน) IRPC.mp4_0432.mp3'),\n",
       " PosixPath('/home/jupyter/set-speechtotext-poc/notebooks/whisper-v3/data/Opp Day SRTs/chunks/x2mate.com-Oppday Q3_2023 NOBLE บมจ. โนเบิล ดีเวลลอปเมนท์.mp4_0759.mp3'),\n",
       " PosixPath('/home/jupyter/set-speechtotext-poc/notebooks/whisper-v3/data/Opp Day SRTs/chunks/x2mate.com-Oppday Year End 2022 บริษัท พฤกษา โฮลดิ้ง จำกัด (มหาชน) PSH.mp4_1045.mp3'),\n",
       " PosixPath('/home/jupyter/set-speechtotext-poc/notebooks/whisper-v3/data/Opp Day SRTs/chunks/x2mate.com-Oppday Q3_2023 SAK บมจ. ศักดิ์สยามลิสซิ่ง.mp4_0686.mp3'),\n",
       " PosixPath('/home/jupyter/set-speechtotext-poc/notebooks/whisper-v3/data/Opp Day SRTs/chunks/x2mate.com-Oppday Year End 2022 บริษัท ไออาร์พีซี จำกัด (มหาชน) IRPC.mp4_0355.mp3'),\n",
       " PosixPath('/home/jupyter/set-speechtotext-poc/notebooks/whisper-v3/data/Opp Day SRTs/chunks/x2mate.com-Oppday Year End 2022 บริษัท พฤกษา โฮลดิ้ง จำกัด (มหาชน) PSH.mp4_1165.mp3'),\n",
       " PosixPath('/home/jupyter/set-speechtotext-poc/notebooks/whisper-v3/data/Opp Day SRTs/chunks/x2mate.com-Oppday Q3_2023 SPVI บมจ. เอส พี วี ไอ.mp4_0521.mp3'),\n",
       " PosixPath('/home/jupyter/set-speechtotext-poc/notebooks/whisper-v3/data/Opp Day SRTs/chunks/x2mate.com-Oppday Year End 2022 บริษัท ไออาร์พีซี จำกัด (มหาชน) IRPC.mp4_1313.mp3'),\n",
       " PosixPath('/home/jupyter/set-speechtotext-poc/notebooks/whisper-v3/data/Opp Day SRTs/chunks/x2mate.com-Oppday Year End 2022 บริษัท ไทยรีประกันชีวิต จำกัด (มหาชน) THREL.mp4_0577.mp3'),\n",
       " PosixPath('/home/jupyter/set-speechtotext-poc/notebooks/whisper-v3/data/Opp Day SRTs/chunks/x2mate.com-Oppday Q3_2023 TAN บมจ. ธนจิรา รีเทล คอร์ปอเรชั่น.mp4_0596.mp3'),\n",
       " PosixPath('/home/jupyter/set-speechtotext-poc/notebooks/whisper-v3/data/Opp Day SRTs/chunks/x2mate.com-Oppday Year End 2022 บริษัท ไออาร์พีซี จำกัด (มหาชน) IRPC.mp4_0112.mp3'),\n",
       " PosixPath('/home/jupyter/set-speechtotext-poc/notebooks/whisper-v3/data/Opp Day SRTs/chunks/x2mate.com-Oppday Year End 2022 บริษัท เฮงลิสซิ่ง แอนด์ แคปปิตอล จำกัด (มหาชน) HENG.mp4_0212.mp3'),\n",
       " PosixPath('/home/jupyter/set-speechtotext-poc/notebooks/whisper-v3/data/Opp Day SRTs/chunks/x2mate.com-Oppday Q3_2023 ADVANC บมจ. แอดวานซ์ อินโฟร์ เซอร์วิส.mp4_0032.mp3'),\n",
       " PosixPath('/home/jupyter/set-speechtotext-poc/notebooks/whisper-v3/data/Opp Day SRTs/chunks/x2mate.com-Oppday Year End 2022 บริษัท โกลบอล คอนเน็คชั่นส์ จำกัด (มหาชน) GC.mp4_0517.mp3'),\n",
       " PosixPath('/home/jupyter/set-speechtotext-poc/notebooks/whisper-v3/data/Opp Day SRTs/chunks/x2mate.com-Oppday Q3_2023 TAN บมจ. ธนจิรา รีเทล คอร์ปอเรชั่น.mp4_0366.mp3'),\n",
       " PosixPath('/home/jupyter/set-speechtotext-poc/notebooks/whisper-v3/data/Opp Day SRTs/chunks/x2mate.com-Oppday Q3_2023 NOBLE บมจ. โนเบิล ดีเวลลอปเมนท์.mp4_0767.mp3'),\n",
       " PosixPath('/home/jupyter/set-speechtotext-poc/notebooks/whisper-v3/data/Opp Day SRTs/chunks/x2mate.com-Oppday Year End 2022 บริษัท ไออาร์พีซี จำกัด (มหาชน) IRPC.mp4_0903.mp3'),\n",
       " PosixPath('/home/jupyter/set-speechtotext-poc/notebooks/whisper-v3/data/Opp Day SRTs/chunks/x2mate.com-Oppday Q3_2023 TAN บมจ. ธนจิรา รีเทล คอร์ปอเรชั่น.mp4_0004.mp3'),\n",
       " PosixPath('/home/jupyter/set-speechtotext-poc/notebooks/whisper-v3/data/Opp Day SRTs/chunks/x2mate.com-Oppday Year End 2022 บริษัท ไทยรีประกันชีวิต จำกัด (มหาชน) THREL.mp4_0312.mp3'),\n",
       " PosixPath('/home/jupyter/set-speechtotext-poc/notebooks/whisper-v3/data/Opp Day SRTs/chunks/x2mate.com-Oppday Year End 2022 บริษัท เฮงลิสซิ่ง แอนด์ แคปปิตอล จำกัด (มหาชน) HENG.mp4_0940.mp3'),\n",
       " PosixPath('/home/jupyter/set-speechtotext-poc/notebooks/whisper-v3/data/Opp Day SRTs/chunks/x2mate.com-Oppday Year End 2022 บริษัท เฮงลิสซิ่ง แอนด์ แคปปิตอล จำกัด (มหาชน) HENG.mp4_0027.mp3'),\n",
       " PosixPath('/home/jupyter/set-speechtotext-poc/notebooks/whisper-v3/data/Opp Day SRTs/chunks/x2mate.com-Oppday Q3_2023 NOBLE บมจ. โนเบิล ดีเวลลอปเมนท์.mp4_0769.mp3'),\n",
       " PosixPath('/home/jupyter/set-speechtotext-poc/notebooks/whisper-v3/data/Opp Day SRTs/chunks/x2mate.com-Oppday Q3_2023 TAN บมจ. ธนจิรา รีเทล คอร์ปอเรชั่น.mp4_0051.mp3'),\n",
       " PosixPath('/home/jupyter/set-speechtotext-poc/notebooks/whisper-v3/data/Opp Day SRTs/chunks/x2mate.com-Oppday Q3_2023 SAK บมจ. ศักดิ์สยามลิสซิ่ง.mp4_0049.mp3'),\n",
       " PosixPath('/home/jupyter/set-speechtotext-poc/notebooks/whisper-v3/data/Opp Day SRTs/chunks/x2mate.com-Oppday Q3_2023 ADVANC บมจ. แอดวานซ์ อินโฟร์ เซอร์วิส.mp4_0413.mp3'),\n",
       " PosixPath('/home/jupyter/set-speechtotext-poc/notebooks/whisper-v3/data/Opp Day SRTs/chunks/x2mate.com-Oppday Year End 2022 บริษัท โกลบอล คอนเน็คชั่นส์ จำกัด (มหาชน) GC.mp4_0129.mp3'),\n",
       " PosixPath('/home/jupyter/set-speechtotext-poc/notebooks/whisper-v3/data/Opp Day SRTs/chunks/x2mate.com-Oppday Year End 2022 บริษัท ไทยรีประกันชีวิต จำกัด (มหาชน) THREL.mp4_0415.mp3'),\n",
       " PosixPath('/home/jupyter/set-speechtotext-poc/notebooks/whisper-v3/data/Opp Day SRTs/chunks/x2mate.com-Oppday Year End 2022 บริษัท เฮงลิสซิ่ง แอนด์ แคปปิตอล จำกัด (มหาชน) HENG.mp4_0097.mp3'),\n",
       " PosixPath('/home/jupyter/set-speechtotext-poc/notebooks/whisper-v3/data/Opp Day SRTs/chunks/x2mate.com-Oppday Q3_2023 NOBLE บมจ. โนเบิล ดีเวลลอปเมนท์.mp4_0766.mp3'),\n",
       " PosixPath('/home/jupyter/set-speechtotext-poc/notebooks/whisper-v3/data/Opp Day SRTs/chunks/x2mate.com-Oppday Q3_2023 SAK บมจ. ศักดิ์สยามลิสซิ่ง.mp4_0319.mp3'),\n",
       " PosixPath('/home/jupyter/set-speechtotext-poc/notebooks/whisper-v3/data/Opp Day SRTs/chunks/x2mate.com-Oppday Q3_2023 SPVI บมจ. เอส พี วี ไอ.mp4_0637.mp3'),\n",
       " PosixPath('/home/jupyter/set-speechtotext-poc/notebooks/whisper-v3/data/Opp Day SRTs/chunks/x2mate.com-Oppday Year End 2022 บริษัท ไออาร์พีซี จำกัด (มหาชน) IRPC.mp4_0404.mp3'),\n",
       " PosixPath('/home/jupyter/set-speechtotext-poc/notebooks/whisper-v3/data/Opp Day SRTs/chunks/x2mate.com-Oppday Year End 2022 บริษัท ไออาร์พีซี จำกัด (มหาชน) IRPC.mp4_0482.mp3'),\n",
       " PosixPath('/home/jupyter/set-speechtotext-poc/notebooks/whisper-v3/data/Opp Day SRTs/chunks/x2mate.com-Oppday Year End 2022 บริษัท ไออาร์พีซี จำกัด (มหาชน) IRPC.mp4_1085.mp3'),\n",
       " PosixPath('/home/jupyter/set-speechtotext-poc/notebooks/whisper-v3/data/Opp Day SRTs/chunks/x2mate.com-Oppday Q3_2023 ADVANC บมจ. แอดวานซ์ อินโฟร์ เซอร์วิส.mp4_0490.mp3')]"
      ]
     },
     "execution_count": 46,
     "metadata": {},
     "output_type": "execute_result"
    }
   ],
   "source": [
    "check[check[1] < 20][0].tolist()"
   ]
  },
  {
   "cell_type": "code",
   "execution_count": 51,
   "id": "3c53a586-d608-446b-b471-ba50914e6aa2",
   "metadata": {
    "tags": []
   },
   "outputs": [
    {
     "data": {
      "text/html": [
       "\n",
       "                <audio  controls=\"controls\" >\n",
       "                    <source src=\"data:audio/mpeg;base64,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\" type=\"audio/mpeg\" />\n",
       "                    Your browser does not support the audio element.\n",
       "                </audio>\n",
       "              "
      ],
      "text/plain": [
       "<IPython.lib.display.Audio object>"
      ]
     },
     "execution_count": 51,
     "metadata": {},
     "output_type": "execute_result"
    }
   ],
   "source": [
    "Audio('/home/jupyter/set-speechtotext-poc/notebooks/whisper-v3/data/Opp Day SRTs/chunks/x2mate.com-Oppday Year End 2022 บริษัท พฤกษา โฮลดิ้ง จำกัด (มหาชน) PSH.mp4_1165.mp3')"
   ]
  },
  {
   "cell_type": "code",
   "execution_count": null,
   "id": "581ddd16-4ed9-4105-aa88-c822e9d822a9",
   "metadata": {},
   "outputs": [],
   "source": []
  }
 ],
 "metadata": {
  "environment": {
   "kernel": "conda-root-py",
   "name": "workbench-notebooks.m113",
   "type": "gcloud",
   "uri": "gcr.io/deeplearning-platform-release/workbench-notebooks:m113"
  },
  "kernelspec": {
   "display_name": "Python 3 (ipykernel) (Local)",
   "language": "python",
   "name": "conda-root-py"
  },
  "language_info": {
   "codemirror_mode": {
    "name": "ipython",
    "version": 3
   },
   "file_extension": ".py",
   "mimetype": "text/x-python",
   "name": "python",
   "nbconvert_exporter": "python",
   "pygments_lexer": "ipython3",
   "version": "3.10.13"
  }
 },
 "nbformat": 4,
 "nbformat_minor": 5
}
