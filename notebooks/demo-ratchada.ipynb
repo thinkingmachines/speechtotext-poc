{
 "cells": [
  {
   "cell_type": "markdown",
   "metadata": {},
   "source": [
    "# Ratchada Whisper, Developing-Demo Guide\n",
    "\n",
    "Ratchada Whisper is a Automatic Speech Recognition (ASR) Model. Finetuning from and its derivative of Whisper Model.\n",
    "\n",
    "Finetuning using Ratchada-STT, Audio datasets collected in finiancial Youtube video.\n",
    "\n",
    "This model is develop and publish under Thinking Machines Data Science Inc. "
   ]
  },
  {
   "cell_type": "markdown",
   "metadata": {},
   "source": [
    "## Dependencies"
   ]
  },
  {
   "cell_type": "code",
   "execution_count": null,
   "metadata": {},
   "outputs": [],
   "source": [
    "!pip install -q -U transformers torch torchaudio tf-keras ipywebrtc ipywidgets"
   ]
  },
  {
   "cell_type": "markdown",
   "metadata": {},
   "source": [
    "## Load with Pipeline\n",
    "\n",
    "**Recommended**. You can use this model with the standard Transformers pipeline"
   ]
  },
  {
   "cell_type": "code",
   "execution_count": null,
   "metadata": {},
   "outputs": [],
   "source": [
    "from transformers import pipeline\n",
    "import torch\n",
    "\n",
    "user_name = \"ThinkingMachinesDataScience\"\n",
    "model_name = \"Ratchada-Fang-Thon-Whisper\"\n",
    "repo_name = user_name + \"/\" + model_name  \n",
    "\n",
    "device = 0 if torch.cuda.is_available() else \"cpu\"\n",
    "\n",
    "pipe = pipeline(\n",
    "        'automatic-speech-recognition', \n",
    "        model=repo_name, \n",
    "        device=device, \n",
    "        generate_kwargs={\"language\": \"th\", \"task\": \"transcribe\"}\n",
    "    )"
   ]
  },
  {
   "cell_type": "markdown",
   "metadata": {},
   "source": [
    "### Demo with Voice Recorder"
   ]
  },
  {
   "cell_type": "code",
   "execution_count": null,
   "metadata": {},
   "outputs": [],
   "source": [
    "from ipywebrtc import AudioRecorder, CameraStream\n",
    "import torchaudio\n",
    "from IPython.display import Audio"
   ]
  },
  {
   "cell_type": "code",
   "execution_count": null,
   "metadata": {},
   "outputs": [],
   "source": [
    "camera = CameraStream(constraints={'audio': True,'video':False})\n",
    "recorder = AudioRecorder(stream=camera)\n",
    "recorder"
   ]
  },
  {
   "cell_type": "code",
   "execution_count": null,
   "metadata": {},
   "outputs": [],
   "source": [
    "record.save(\"audio.wav\")"
   ]
  },
  {
   "cell_type": "code",
   "execution_count": null,
   "metadata": {},
   "outputs": [],
   "source": [
    "result = pipe(\n",
    "    \"audio.wav\"\n",
    ")[\"text\"]\n",
    "\n",
    "result"
   ]
  },
  {
   "cell_type": "markdown",
   "metadata": {},
   "source": [
    "## Load with Transformer\n",
    "\n",
    "You can use this model from Transfomers module driectly\n",
    "\n",
    "This method is recommneded to use our `ratchda-utils` lib on Pypi package"
   ]
  },
  {
   "cell_type": "code",
   "execution_count": null,
   "metadata": {},
   "outputs": [],
   "source": [
    "!pip install -q -U ratchada-utils"
   ]
  },
  {
   "cell_type": "code",
   "execution_count": null,
   "metadata": {},
   "outputs": [],
   "source": [
    "from transformers import AutoProcessor, AutoModelForSpeechSeq2Seq\n",
    "import torch\n",
    "\n",
    "user_name = \"ThinkingMachinesDataScience\"\n",
    "model_name = \"Ratchada-Fang-Thon-Whisper\"\n",
    "repo_name = user_name + \"/\" + model_name  \n",
    "\n",
    "device = torch.device('cuda' if torch.cuda.is_available() else 'cpu')\n",
    "\n",
    "processor = AutoProcessor.from_pretrained(\"ThinkingMachinesDataScience/Ratchada-Fang-Thon-Whisper\")\n",
    "model = AutoModelForSpeechSeq2Seq.from_pretrained(\"ThinkingMachinesDataScience/Ratchada-Fang-Thon-Whisper\").to(device)\n",
    "\n",
    "# waveform is numpy that obtain from Audio processor lib i.e. librosa, torchaudio\n",
    "\n",
    "input_features = processor(waveform.squeeze(), sampling_rate=16000, return_tensors=\"pt\").input_features.to(device)\n",
    "\n",
    "with torch.no_grad():\n",
    "    predicted_ids = model.generate(input_features)\n",
    "\n",
    "transcription = processor.batch_decode(predicted_ids, skip_special_tokens=True)[0] # best choice of batches\n",
    "\n",
    "from ratchada_utils.processor import tokenize_text # strongly recommend post-processor\n",
    "\n",
    "processed_text = tokenize_text(transcription) # cut the text into splited component and process it (see github)\n",
    "\n",
    "result = \"\".join(processed_text)\n",
    "\n",
    "print(result)\n"
   ]
  }
 ],
 "metadata": {
  "kernelspec": {
   "display_name": "ALIEN",
   "language": "python",
   "name": "python3"
  },
  "language_info": {
   "codemirror_mode": {
    "name": "ipython",
    "version": 3
   },
   "file_extension": ".py",
   "mimetype": "text/x-python",
   "name": "python",
   "nbconvert_exporter": "python",
   "pygments_lexer": "ipython3",
   "version": "3.11.9"
  }
 },
 "nbformat": 4,
 "nbformat_minor": 2
}
