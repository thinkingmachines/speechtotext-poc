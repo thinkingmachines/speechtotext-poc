{
 "cells": [
  {
   "cell_type": "code",
   "execution_count": 3,
   "metadata": {},
   "outputs": [],
   "source": [
    "user_name = \"ThinkingMachinesDataScience\"\n",
    "model_name = \"Ratchada-Fang-Thon-Whisper\"\n",
    "repo_name = user_name + \"/\"+ model_name  "
   ]
  },
  {
   "cell_type": "code",
   "execution_count": 18,
   "metadata": {},
   "outputs": [
    {
     "name": "stderr",
     "output_type": "stream",
     "text": [
      "automatic-speech-recognition is already registered. Overwriting pipeline for task automatic-speech-recognition...\n"
     ]
    }
   ],
   "source": [
    "from ratchada_pipeline import RatchadaPipeline\n",
    "from transformers.pipelines import PIPELINE_REGISTRY\n",
    "from transformers import WhisperForConditionalGeneration\n",
    "\n",
    "PIPELINE_REGISTRY.register_pipeline(\n",
    "    'automatic-speech-recognition',\n",
    "    pipeline_class=RatchadaPipeline,\n",
    "    pt_model=WhisperForConditionalGeneration,\n",
    "    default={\"pt\": (repo_name, \"main\")},\n",
    "    type=\"audio\",\n",
    ")"
   ]
  },
  {
   "cell_type": "code",
   "execution_count": null,
   "metadata": {},
   "outputs": [],
   "source": [
    "from transformers import pipeline\n",
    "\n",
    "ratchada_pipeline = pipeline(\n",
    "    model=repo_name,\n",
    "    trust_remote_code=True\n",
    ")"
   ]
  }
 ],
 "metadata": {
  "kernelspec": {
   "display_name": "RATCHADA",
   "language": "python",
   "name": "python3"
  },
  "language_info": {
   "codemirror_mode": {
    "name": "ipython",
    "version": 3
   },
   "file_extension": ".py",
   "mimetype": "text/x-python",
   "name": "python",
   "nbconvert_exporter": "python",
   "pygments_lexer": "ipython3",
   "version": "3.11.9"
  }
 },
 "nbformat": 4,
 "nbformat_minor": 2
}
