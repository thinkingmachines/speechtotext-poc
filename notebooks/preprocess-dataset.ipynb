{
 "cells": [
  {
   "cell_type": "markdown",
   "metadata": {},
   "source": [
    "# Demo Video-Timestamps"
   ]
  },
  {
   "cell_type": "code",
   "execution_count": null,
   "metadata": {},
   "outputs": [],
   "source": [
    "from datetime import datetime\n",
    "import os\n",
    "import pathlib\n",
    "import librosa\n",
    "import soundfile as sf\n",
    "import yt_dlp\n",
    "from tqdm import tqdm"
   ]
  },
  {
   "cell_type": "markdown",
   "metadata": {},
   "source": [
    "## Download audio"
   ]
  },
  {
   "cell_type": "code",
   "execution_count": null,
   "metadata": {},
   "outputs": [],
   "source": [
    "def download_youtube_audio(url: str, output_dir: str) -> None:\n",
    "    \"\"\"\n",
    "    Downloads the audio from a YouTube video and saves it as a WAV file.\n",
    "\n",
    "    Args:\n",
    "        url (str): The URL of the YouTube video.\n",
    "        output_dir (str): The directory where the audio file will be saved.\n",
    "\n",
    "    Returns:\n",
    "        None\n",
    "    \"\"\"\n",
    "    if not os.path.exists(output_dir):\n",
    "        os.makedirs(output_dir)\n",
    "\n",
    "    ydl_opts = {\n",
    "        'format': 'bestaudio/best',\n",
    "        'postprocessors': [{\n",
    "            'key': 'FFmpegExtractAudio',\n",
    "            'preferredcodec': 'wav',\n",
    "        }],\n",
    "        'outtmpl': os.path.join(output_dir, '%(title)s.%(ext)s'),\n",
    "    }\n",
    "\n",
    "    try:\n",
    "        with yt_dlp.YoutubeDL(ydl_opts) as ydl:\n",
    "            ydl.download([url])\n",
    "        print(f\"Audio saved in: {output_dir}\")\n",
    "    except Exception as e:\n",
    "        print(f\"An error occurred: {e}\")"
   ]
  },
  {
   "cell_type": "code",
   "execution_count": null,
   "metadata": {},
   "outputs": [],
   "source": [
    "url = \"https://www.youtube.com/watch?v=pBy1zgt0XPc\"\n",
    "youtube_audio_download(url)"
   ]
  },
  {
   "cell_type": "markdown",
   "metadata": {},
   "source": [
    "## Convert Audio Timestamps"
   ]
  },
  {
   "cell_type": "code",
   "execution_count": null,
   "metadata": {},
   "outputs": [],
   "source": [
    "from datetime import datetime\n",
    "\n",
    "def to_seconds(date_time: datetime.time) -> float:\n",
    "    \"\"\"\n",
    "    Converts a datetime.time object to total seconds.\n",
    "\n",
    "    Args:\n",
    "        date_time (datetime.time): The time object to convert.\n",
    "\n",
    "    Returns:\n",
    "        float: The total number of seconds.\n",
    "    \"\"\"\n",
    "    try:\n",
    "        total_seconds = (\n",
    "            date_time.hour * 3600\n",
    "            + date_time.minute * 60\n",
    "            + date_time.second\n",
    "            + (date_time.microsecond / 1e6)\n",
    "            + 0.25\n",
    "        )\n",
    "        return total_seconds\n",
    "    except AttributeError as e:\n",
    "        print(f\"An error occurred: {e}\")\n",
    "        return 0.0"
   ]
  },
  {
   "cell_type": "code",
   "execution_count": null,
   "metadata": {},
   "outputs": [],
   "source": [
    "to_seconds(datetime.now().time())"
   ]
  },
  {
   "cell_type": "markdown",
   "metadata": {},
   "source": [
    "## Split Timestamps - Audio from SRT"
   ]
  },
  {
   "cell_type": "code",
   "execution_count": 3,
   "metadata": {},
   "outputs": [],
   "source": [
    "def split_audio(audio_dir: str, timestamps: list[tuple[float, float]], target_folder: str) -> list[str]:\n",
    "    \"\"\"\n",
    "    Splits an audio file into multiple chunks based on given timestamps.\n",
    "\n",
    "    Args:\n",
    "        audio_dir (str): The path to the audio file.\n",
    "        timestamps (List[Tuple[float, float]]): List of (start, stop) times in seconds.\n",
    "        target_folder (str): The folder where the split audio files will be saved.\n",
    "\n",
    "    Returns:\n",
    "        List[str]: List of paths to the saved audio chunks.\n",
    "    \"\"\"\n",
    "    sampling_rate = 16000\n",
    "    try:\n",
    "        y, sr = librosa.load(audio_dir, sr=sampling_rate)\n",
    "    except Exception as e:\n",
    "        print(f\"An error occurred while loading the audio file: {e}\")\n",
    "        return []\n",
    "\n",
    "    indices = [(int(start * sr), int(stop * sr)) for start, stop in timestamps]\n",
    "\n",
    "    audio_name = pathlib.Path(audio_dir).stem\n",
    "    dest_dir = os.path.join(target_folder, audio_name)\n",
    "    os.makedirs(dest_dir, exist_ok=True)\n",
    "\n",
    "    output_file_list = []\n",
    "    for i, (start_index, end_index) in tqdm(enumerate(indices), total=len(indices)):\n",
    "        split_audio = y[start_index:end_index]\n",
    "        output_file = os.path.join(dest_dir, f\"{audio_name}_chunk_{i:05d}.wav\")\n",
    "        try:\n",
    "            sf.write(output_file, split_audio, sampling_rate)\n",
    "        except Exception as e:\n",
    "            print(f\"An error occurred while writing the audio file: {e}\")\n",
    "            continue\n",
    "        output_file_list.append(f\"{audio_name}/{audio_name}_chunk_{i:05d}.wav\")\n",
    "    \n",
    "    return output_file_list\n"
   ]
  },
  {
   "cell_type": "code",
   "execution_count": null,
   "metadata": {},
   "outputs": [],
   "source": [
    "SRT_DIR = \"\" # Add this\n",
    "\n",
    "subs = pysrt.open(str(SRT_DIR / target_srt))\n",
    "start_list = [to_second(sub.start.to_time()) for sub in subs if sub.text != \"\"]\n",
    "end_list = [to_second(sub.end.to_time()) for sub in subs if sub.text != \"\"]\n",
    "text_list = [sub.text for sub in subs if sub.text != \"\"]"
   ]
  }
 ],
 "metadata": {
  "kernelspec": {
   "display_name": "set-speechtotext-poc-kSFlFoQd-py3.10",
   "language": "python",
   "name": "python3"
  },
  "language_info": {
   "codemirror_mode": {
    "name": "ipython",
    "version": 3
   },
   "file_extension": ".py",
   "mimetype": "text/x-python",
   "name": "python",
   "nbconvert_exporter": "python",
   "pygments_lexer": "ipython3",
   "version": "3.11.9"
  },
  "orig_nbformat": 4
 },
 "nbformat": 4,
 "nbformat_minor": 2
}
